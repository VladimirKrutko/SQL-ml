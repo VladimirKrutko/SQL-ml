{
 "cells": [
  {
   "cell_type": "code",
   "execution_count": 1,
   "metadata": {},
   "outputs": [],
   "source": [
    "import numpy as np\n",
    "import pandas as pd"
   ]
  },
  {
   "cell_type": "code",
   "execution_count": 2,
   "metadata": {},
   "outputs": [],
   "source": [
    "data = pd.read_parquet('train.parquet')"
   ]
  },
  {
   "cell_type": "code",
   "execution_count": 3,
   "metadata": {},
   "outputs": [
    {
     "data": {
      "text/html": [
       "<div>\n",
       "<style scoped>\n",
       "    .dataframe tbody tr th:only-of-type {\n",
       "        vertical-align: middle;\n",
       "    }\n",
       "\n",
       "    .dataframe tbody tr th {\n",
       "        vertical-align: top;\n",
       "    }\n",
       "\n",
       "    .dataframe thead th {\n",
       "        text-align: right;\n",
       "    }\n",
       "</style>\n",
       "<table border=\"1\" class=\"dataframe\">\n",
       "  <thead>\n",
       "    <tr style=\"text-align: right;\">\n",
       "      <th></th>\n",
       "      <th>CompanyKey</th>\n",
       "      <th>ProfitLoss</th>\n",
       "      <th>AccountLocal</th>\n",
       "      <th>AccSide</th>\n",
       "      <th>AccountLocalCorr</th>\n",
       "      <th>Виды деятельности</th>\n",
       "      <th>Прочие доходы и расходы</th>\n",
       "      <th>Номенклатурные группы</th>\n",
       "      <th>Статьи затрат</th>\n",
       "      <th>Статьи ДДС</th>\n",
       "      <th>Amount</th>\n",
       "      <th>TargetKey</th>\n",
       "      <th>TargetName</th>\n",
       "    </tr>\n",
       "  </thead>\n",
       "  <tbody>\n",
       "    <tr>\n",
       "      <th>0</th>\n",
       "      <td>BNV</td>\n",
       "      <td>0</td>\n",
       "      <td>01</td>\n",
       "      <td>Dt</td>\n",
       "      <td>08</td>\n",
       "      <td></td>\n",
       "      <td></td>\n",
       "      <td></td>\n",
       "      <td></td>\n",
       "      <td></td>\n",
       "      <td>395599.24</td>\n",
       "      <td>24</td>\n",
       "      <td>Прочие Активы</td>\n",
       "    </tr>\n",
       "    <tr>\n",
       "      <th>1</th>\n",
       "      <td>BNV</td>\n",
       "      <td>0</td>\n",
       "      <td>08</td>\n",
       "      <td>Cr</td>\n",
       "      <td>01</td>\n",
       "      <td></td>\n",
       "      <td></td>\n",
       "      <td></td>\n",
       "      <td></td>\n",
       "      <td></td>\n",
       "      <td>-395599.24</td>\n",
       "      <td>24</td>\n",
       "      <td>Прочие Активы</td>\n",
       "    </tr>\n",
       "    <tr>\n",
       "      <th>2</th>\n",
       "      <td>BNV</td>\n",
       "      <td>0</td>\n",
       "      <td>08</td>\n",
       "      <td>Dt</td>\n",
       "      <td>60</td>\n",
       "      <td></td>\n",
       "      <td></td>\n",
       "      <td></td>\n",
       "      <td></td>\n",
       "      <td></td>\n",
       "      <td>395599.24</td>\n",
       "      <td>24</td>\n",
       "      <td>Прочие Активы</td>\n",
       "    </tr>\n",
       "    <tr>\n",
       "      <th>3</th>\n",
       "      <td>BNV</td>\n",
       "      <td>0</td>\n",
       "      <td>10</td>\n",
       "      <td>Cr</td>\n",
       "      <td>20</td>\n",
       "      <td></td>\n",
       "      <td></td>\n",
       "      <td>Основная номенклатурная группа</td>\n",
       "      <td>Списание материалов</td>\n",
       "      <td></td>\n",
       "      <td>-12868.81</td>\n",
       "      <td>24</td>\n",
       "      <td>Прочие Активы</td>\n",
       "    </tr>\n",
       "    <tr>\n",
       "      <th>4</th>\n",
       "      <td>BNV</td>\n",
       "      <td>0</td>\n",
       "      <td>10</td>\n",
       "      <td>Cr</td>\n",
       "      <td>26</td>\n",
       "      <td></td>\n",
       "      <td></td>\n",
       "      <td></td>\n",
       "      <td>почтовые расходы</td>\n",
       "      <td></td>\n",
       "      <td>-81507.85</td>\n",
       "      <td>24</td>\n",
       "      <td>Прочие Активы</td>\n",
       "    </tr>\n",
       "  </tbody>\n",
       "</table>\n",
       "</div>"
      ],
      "text/plain": [
       "  CompanyKey ProfitLoss AccountLocal AccSide AccountLocalCorr  \\\n",
       "0        BNV          0           01      Dt               08   \n",
       "1        BNV          0           08      Cr               01   \n",
       "2        BNV          0           08      Dt               60   \n",
       "3        BNV          0           10      Cr               20   \n",
       "4        BNV          0           10      Cr               26   \n",
       "\n",
       "  Виды деятельности Прочие доходы и расходы           Номенклатурные группы  \\\n",
       "0                                                                             \n",
       "1                                                                             \n",
       "2                                                                             \n",
       "3                                            Основная номенклатурная группа   \n",
       "4                                                                             \n",
       "\n",
       "         Статьи затрат Статьи ДДС     Amount TargetKey     TargetName  \n",
       "0                                  395599.24        24  Прочие Активы  \n",
       "1                                 -395599.24        24  Прочие Активы  \n",
       "2                                  395599.24        24  Прочие Активы  \n",
       "3  Списание материалов             -12868.81        24  Прочие Активы  \n",
       "4     почтовые расходы             -81507.85        24  Прочие Активы  "
      ]
     },
     "execution_count": 3,
     "metadata": {},
     "output_type": "execute_result"
    }
   ],
   "source": [
    "data.head()"
   ]
  },
  {
   "cell_type": "code",
   "execution_count": 4,
   "metadata": {},
   "outputs": [
    {
     "data": {
      "text/plain": [
       "CompanyKey                    0\n",
       "ProfitLoss                    0\n",
       "AccountLocal                  0\n",
       "AccSide                       0\n",
       "AccountLocalCorr              0\n",
       "Виды деятельности             0\n",
       "Прочие доходы и расходы       0\n",
       "Номенклатурные группы         0\n",
       "Статьи затрат                 0\n",
       "Статьи ДДС                    0\n",
       "Amount                        0\n",
       "TargetKey                  2510\n",
       "TargetName                 2510\n",
       "dtype: int64"
      ]
     },
     "execution_count": 4,
     "metadata": {},
     "output_type": "execute_result"
    }
   ],
   "source": [
    "data.isnull().sum()"
   ]
  },
  {
   "cell_type": "code",
   "execution_count": 5,
   "metadata": {},
   "outputs": [
    {
     "data": {
      "text/plain": [
       "True"
      ]
     },
     "execution_count": 5,
     "metadata": {},
     "output_type": "execute_result"
    }
   ],
   "source": [
    "data.CompanyKey.dtype=='category'\n"
   ]
  },
  {
   "cell_type": "code",
   "execution_count": 6,
   "metadata": {},
   "outputs": [],
   "source": [
    " data.AccountLocal =data.AccountLocal.astype(float)"
   ]
  },
  {
   "cell_type": "code",
   "execution_count": 7,
   "metadata": {},
   "outputs": [],
   "source": [
    "data.AccountLocalCorr = data.AccountLocalCorr.astype(float)"
   ]
  },
  {
   "cell_type": "code",
   "execution_count": 8,
   "metadata": {},
   "outputs": [],
   "source": [
    "for col in data.columns:\n",
    "    if (data[col].dtype!=str) & (data[col].dtype!=float):\n",
    "        data[col] = data[col].astype(str)"
   ]
  },
  {
   "cell_type": "code",
   "execution_count": 9,
   "metadata": {},
   "outputs": [
    {
     "data": {
      "text/plain": [
       "CompanyKey                  object\n",
       "ProfitLoss                  object\n",
       "AccountLocal               float64\n",
       "AccSide                     object\n",
       "AccountLocalCorr           float64\n",
       "Виды деятельности           object\n",
       "Прочие доходы и расходы     object\n",
       "Номенклатурные группы       object\n",
       "Статьи затрат               object\n",
       "Статьи ДДС                  object\n",
       "Amount                     float64\n",
       "TargetKey                   object\n",
       "TargetName                  object\n",
       "dtype: object"
      ]
     },
     "execution_count": 9,
     "metadata": {},
     "output_type": "execute_result"
    }
   ],
   "source": [
    "data.dtypes"
   ]
  },
  {
   "cell_type": "code",
   "execution_count": 10,
   "metadata": {},
   "outputs": [
    {
     "data": {
      "text/plain": [
       "array(['', 'Услуги', 'УСН', 'Оптовая торговля', 'Сертификация',\n",
       "       'Дохід операційної діяльності (від реалізації товарів, робіт, послуг)',\n",
       "       'Услуги таможенного агента', 'услуга по предоставлению гарантии',\n",
       "       'услуга по предоставлению ЭПИ', 'Услуги СВХ', 'Услуги СОП',\n",
       "       'Услуги таможенного склада', 'Транспортно-экспедиционные услуги',\n",
       "       'Таможенные услуги', 'Прочие доходы',\n",
       "       'Позитивне значення курсових різниць'], dtype=object)"
      ]
     },
     "execution_count": 10,
     "metadata": {},
     "output_type": "execute_result"
    }
   ],
   "source": [
    "data['Виды деятельности'].unique()"
   ]
  },
  {
   "cell_type": "code",
   "execution_count": 11,
   "metadata": {},
   "outputs": [
    {
     "data": {
      "text/html": [
       "<div>\n",
       "<style scoped>\n",
       "    .dataframe tbody tr th:only-of-type {\n",
       "        vertical-align: middle;\n",
       "    }\n",
       "\n",
       "    .dataframe tbody tr th {\n",
       "        vertical-align: top;\n",
       "    }\n",
       "\n",
       "    .dataframe thead th {\n",
       "        text-align: right;\n",
       "    }\n",
       "</style>\n",
       "<table border=\"1\" class=\"dataframe\">\n",
       "  <thead>\n",
       "    <tr style=\"text-align: right;\">\n",
       "      <th></th>\n",
       "      <th>CompanyKey</th>\n",
       "      <th>ProfitLoss</th>\n",
       "      <th>AccountLocal</th>\n",
       "      <th>AccSide</th>\n",
       "      <th>AccountLocalCorr</th>\n",
       "      <th>Виды деятельности</th>\n",
       "      <th>Прочие доходы и расходы</th>\n",
       "      <th>Номенклатурные группы</th>\n",
       "      <th>Статьи затрат</th>\n",
       "      <th>Статьи ДДС</th>\n",
       "      <th>Amount</th>\n",
       "      <th>TargetKey</th>\n",
       "      <th>TargetName</th>\n",
       "    </tr>\n",
       "  </thead>\n",
       "  <tbody>\n",
       "    <tr>\n",
       "      <th>0</th>\n",
       "      <td>BNV</td>\n",
       "      <td>0</td>\n",
       "      <td>1.0</td>\n",
       "      <td>Dt</td>\n",
       "      <td>8.0</td>\n",
       "      <td></td>\n",
       "      <td></td>\n",
       "      <td></td>\n",
       "      <td></td>\n",
       "      <td></td>\n",
       "      <td>395599.24</td>\n",
       "      <td>24</td>\n",
       "      <td>Прочие Активы</td>\n",
       "    </tr>\n",
       "    <tr>\n",
       "      <th>1</th>\n",
       "      <td>BNV</td>\n",
       "      <td>0</td>\n",
       "      <td>8.0</td>\n",
       "      <td>Cr</td>\n",
       "      <td>1.0</td>\n",
       "      <td></td>\n",
       "      <td></td>\n",
       "      <td></td>\n",
       "      <td></td>\n",
       "      <td></td>\n",
       "      <td>-395599.24</td>\n",
       "      <td>24</td>\n",
       "      <td>Прочие Активы</td>\n",
       "    </tr>\n",
       "    <tr>\n",
       "      <th>2</th>\n",
       "      <td>BNV</td>\n",
       "      <td>0</td>\n",
       "      <td>8.0</td>\n",
       "      <td>Dt</td>\n",
       "      <td>60.0</td>\n",
       "      <td></td>\n",
       "      <td></td>\n",
       "      <td></td>\n",
       "      <td></td>\n",
       "      <td></td>\n",
       "      <td>395599.24</td>\n",
       "      <td>24</td>\n",
       "      <td>Прочие Активы</td>\n",
       "    </tr>\n",
       "    <tr>\n",
       "      <th>3</th>\n",
       "      <td>BNV</td>\n",
       "      <td>0</td>\n",
       "      <td>10.0</td>\n",
       "      <td>Cr</td>\n",
       "      <td>20.0</td>\n",
       "      <td></td>\n",
       "      <td></td>\n",
       "      <td>Основная номенклатурная группа</td>\n",
       "      <td>Списание материалов</td>\n",
       "      <td></td>\n",
       "      <td>-12868.81</td>\n",
       "      <td>24</td>\n",
       "      <td>Прочие Активы</td>\n",
       "    </tr>\n",
       "    <tr>\n",
       "      <th>4</th>\n",
       "      <td>BNV</td>\n",
       "      <td>0</td>\n",
       "      <td>10.0</td>\n",
       "      <td>Cr</td>\n",
       "      <td>26.0</td>\n",
       "      <td></td>\n",
       "      <td></td>\n",
       "      <td></td>\n",
       "      <td>почтовые расходы</td>\n",
       "      <td></td>\n",
       "      <td>-81507.85</td>\n",
       "      <td>24</td>\n",
       "      <td>Прочие Активы</td>\n",
       "    </tr>\n",
       "  </tbody>\n",
       "</table>\n",
       "</div>"
      ],
      "text/plain": [
       "  CompanyKey ProfitLoss  AccountLocal AccSide  AccountLocalCorr  \\\n",
       "0        BNV          0           1.0      Dt               8.0   \n",
       "1        BNV          0           8.0      Cr               1.0   \n",
       "2        BNV          0           8.0      Dt              60.0   \n",
       "3        BNV          0          10.0      Cr              20.0   \n",
       "4        BNV          0          10.0      Cr              26.0   \n",
       "\n",
       "  Виды деятельности Прочие доходы и расходы           Номенклатурные группы  \\\n",
       "0                                                                             \n",
       "1                                                                             \n",
       "2                                                                             \n",
       "3                                            Основная номенклатурная группа   \n",
       "4                                                                             \n",
       "\n",
       "         Статьи затрат Статьи ДДС     Amount TargetKey     TargetName  \n",
       "0                                  395599.24        24  Прочие Активы  \n",
       "1                                 -395599.24        24  Прочие Активы  \n",
       "2                                  395599.24        24  Прочие Активы  \n",
       "3  Списание материалов             -12868.81        24  Прочие Активы  \n",
       "4     почтовые расходы             -81507.85        24  Прочие Активы  "
      ]
     },
     "execution_count": 11,
     "metadata": {},
     "output_type": "execute_result"
    }
   ],
   "source": [
    "data.head()"
   ]
  }
 ],
 "metadata": {
  "interpreter": {
   "hash": "56f1a0fe0ae983e1d8188b8efb8f5f3e6c962953746add713e877f0c7a0a2b04"
  },
  "kernelspec": {
   "display_name": "Python 3.9.7 64-bit ('biv_arr': conda)",
   "name": "python3"
  },
  "language_info": {
   "codemirror_mode": {
    "name": "ipython",
    "version": 3
   },
   "file_extension": ".py",
   "mimetype": "text/x-python",
   "name": "python",
   "nbconvert_exporter": "python",
   "pygments_lexer": "ipython3",
   "version": "3.9.7"
  },
  "orig_nbformat": 4
 },
 "nbformat": 4,
 "nbformat_minor": 2
}
