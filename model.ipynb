{
 "cells": [
  {
   "cell_type": "code",
   "execution_count": 1,
   "metadata": {},
   "outputs": [],
   "source": [
    "import numpy as np\n",
    "import pandas as pd"
   ]
  },
  {
   "cell_type": "code",
   "execution_count": 2,
   "metadata": {},
   "outputs": [],
   "source": [
    "data = pd.read_parquet('train.parquet')"
   ]
  },
  {
   "cell_type": "code",
   "execution_count": 3,
   "metadata": {},
   "outputs": [
    {
     "data": {
      "text/html": [
       "<div>\n",
       "<style scoped>\n",
       "    .dataframe tbody tr th:only-of-type {\n",
       "        vertical-align: middle;\n",
       "    }\n",
       "\n",
       "    .dataframe tbody tr th {\n",
       "        vertical-align: top;\n",
       "    }\n",
       "\n",
       "    .dataframe thead th {\n",
       "        text-align: right;\n",
       "    }\n",
       "</style>\n",
       "<table border=\"1\" class=\"dataframe\">\n",
       "  <thead>\n",
       "    <tr style=\"text-align: right;\">\n",
       "      <th></th>\n",
       "      <th>CompanyKey</th>\n",
       "      <th>ProfitLoss</th>\n",
       "      <th>AccountLocal</th>\n",
       "      <th>AccSide</th>\n",
       "      <th>AccountLocalCorr</th>\n",
       "      <th>Виды деятельности</th>\n",
       "      <th>Прочие доходы и расходы</th>\n",
       "      <th>Номенклатурные группы</th>\n",
       "      <th>Статьи затрат</th>\n",
       "      <th>Статьи ДДС</th>\n",
       "      <th>Amount</th>\n",
       "      <th>TargetKey</th>\n",
       "      <th>TargetName</th>\n",
       "    </tr>\n",
       "  </thead>\n",
       "  <tbody>\n",
       "    <tr>\n",
       "      <th>0</th>\n",
       "      <td>BNV</td>\n",
       "      <td>0</td>\n",
       "      <td>01</td>\n",
       "      <td>Dt</td>\n",
       "      <td>08</td>\n",
       "      <td></td>\n",
       "      <td></td>\n",
       "      <td></td>\n",
       "      <td></td>\n",
       "      <td></td>\n",
       "      <td>395599.24</td>\n",
       "      <td>24</td>\n",
       "      <td>Прочие Активы</td>\n",
       "    </tr>\n",
       "    <tr>\n",
       "      <th>1</th>\n",
       "      <td>BNV</td>\n",
       "      <td>0</td>\n",
       "      <td>08</td>\n",
       "      <td>Cr</td>\n",
       "      <td>01</td>\n",
       "      <td></td>\n",
       "      <td></td>\n",
       "      <td></td>\n",
       "      <td></td>\n",
       "      <td></td>\n",
       "      <td>-395599.24</td>\n",
       "      <td>24</td>\n",
       "      <td>Прочие Активы</td>\n",
       "    </tr>\n",
       "    <tr>\n",
       "      <th>2</th>\n",
       "      <td>BNV</td>\n",
       "      <td>0</td>\n",
       "      <td>08</td>\n",
       "      <td>Dt</td>\n",
       "      <td>60</td>\n",
       "      <td></td>\n",
       "      <td></td>\n",
       "      <td></td>\n",
       "      <td></td>\n",
       "      <td></td>\n",
       "      <td>395599.24</td>\n",
       "      <td>24</td>\n",
       "      <td>Прочие Активы</td>\n",
       "    </tr>\n",
       "    <tr>\n",
       "      <th>3</th>\n",
       "      <td>BNV</td>\n",
       "      <td>0</td>\n",
       "      <td>10</td>\n",
       "      <td>Cr</td>\n",
       "      <td>20</td>\n",
       "      <td></td>\n",
       "      <td></td>\n",
       "      <td>Основная номенклатурная группа</td>\n",
       "      <td>Списание материалов</td>\n",
       "      <td></td>\n",
       "      <td>-12868.81</td>\n",
       "      <td>24</td>\n",
       "      <td>Прочие Активы</td>\n",
       "    </tr>\n",
       "    <tr>\n",
       "      <th>4</th>\n",
       "      <td>BNV</td>\n",
       "      <td>0</td>\n",
       "      <td>10</td>\n",
       "      <td>Cr</td>\n",
       "      <td>26</td>\n",
       "      <td></td>\n",
       "      <td></td>\n",
       "      <td></td>\n",
       "      <td>почтовые расходы</td>\n",
       "      <td></td>\n",
       "      <td>-81507.85</td>\n",
       "      <td>24</td>\n",
       "      <td>Прочие Активы</td>\n",
       "    </tr>\n",
       "  </tbody>\n",
       "</table>\n",
       "</div>"
      ],
      "text/plain": [
       "  CompanyKey ProfitLoss AccountLocal AccSide AccountLocalCorr  \\\n",
       "0        BNV          0           01      Dt               08   \n",
       "1        BNV          0           08      Cr               01   \n",
       "2        BNV          0           08      Dt               60   \n",
       "3        BNV          0           10      Cr               20   \n",
       "4        BNV          0           10      Cr               26   \n",
       "\n",
       "  Виды деятельности Прочие доходы и расходы           Номенклатурные группы  \\\n",
       "0                                                                             \n",
       "1                                                                             \n",
       "2                                                                             \n",
       "3                                            Основная номенклатурная группа   \n",
       "4                                                                             \n",
       "\n",
       "         Статьи затрат Статьи ДДС     Amount TargetKey     TargetName  \n",
       "0                                  395599.24        24  Прочие Активы  \n",
       "1                                 -395599.24        24  Прочие Активы  \n",
       "2                                  395599.24        24  Прочие Активы  \n",
       "3  Списание материалов             -12868.81        24  Прочие Активы  \n",
       "4     почтовые расходы             -81507.85        24  Прочие Активы  "
      ]
     },
     "execution_count": 3,
     "metadata": {},
     "output_type": "execute_result"
    }
   ],
   "source": [
    "data.head()"
   ]
  },
  {
   "cell_type": "code",
   "execution_count": 4,
   "metadata": {},
   "outputs": [
    {
     "data": {
      "text/plain": [
       "CompanyKey                    0\n",
       "ProfitLoss                    0\n",
       "AccountLocal                  0\n",
       "AccSide                       0\n",
       "AccountLocalCorr              0\n",
       "Виды деятельности             0\n",
       "Прочие доходы и расходы       0\n",
       "Номенклатурные группы         0\n",
       "Статьи затрат                 0\n",
       "Статьи ДДС                    0\n",
       "Amount                        0\n",
       "TargetKey                  2510\n",
       "TargetName                 2510\n",
       "dtype: int64"
      ]
     },
     "execution_count": 4,
     "metadata": {},
     "output_type": "execute_result"
    }
   ],
   "source": [
    "data.isnull().sum()"
   ]
  },
  {
   "cell_type": "code",
   "execution_count": 5,
   "metadata": {},
   "outputs": [
    {
     "data": {
      "text/plain": [
       "True"
      ]
     },
     "execution_count": 5,
     "metadata": {},
     "output_type": "execute_result"
    }
   ],
   "source": [
    "data.CompanyKey.dtype=='category'\n"
   ]
  },
  {
   "cell_type": "code",
   "execution_count": 6,
   "metadata": {},
   "outputs": [],
   "source": [
    " data.AccountLocal =data.AccountLocal.astype(float)"
   ]
  },
  {
   "cell_type": "code",
   "execution_count": 7,
   "metadata": {},
   "outputs": [],
   "source": [
    "data.AccountLocalCorr = data.AccountLocalCorr.astype(float)"
   ]
  },
  {
   "cell_type": "code",
   "execution_count": 8,
   "metadata": {},
   "outputs": [],
   "source": [
    "for col in data.columns:\n",
    "    if (data[col].dtype!=str) & (data[col].dtype!=float):\n",
    "        data[col] = data[col].astype(str)"
   ]
  },
  {
   "cell_type": "code",
   "execution_count": 9,
   "metadata": {},
   "outputs": [
    {
     "data": {
      "text/plain": [
       "CompanyKey                  object\n",
       "ProfitLoss                  object\n",
       "AccountLocal               float64\n",
       "AccSide                     object\n",
       "AccountLocalCorr           float64\n",
       "Виды деятельности           object\n",
       "Прочие доходы и расходы     object\n",
       "Номенклатурные группы       object\n",
       "Статьи затрат               object\n",
       "Статьи ДДС                  object\n",
       "Amount                     float64\n",
       "TargetKey                   object\n",
       "TargetName                  object\n",
       "dtype: object"
      ]
     },
     "execution_count": 9,
     "metadata": {},
     "output_type": "execute_result"
    }
   ],
   "source": [
    "data.dtypes"
   ]
  },
  {
   "cell_type": "code",
   "execution_count": 10,
   "metadata": {},
   "outputs": [
    {
     "data": {
      "text/plain": [
       "array(['', 'Услуги', 'УСН', 'Оптовая торговля', 'Сертификация',\n",
       "       'Дохід операційної діяльності (від реалізації товарів, робіт, послуг)',\n",
       "       'Услуги таможенного агента', 'услуга по предоставлению гарантии',\n",
       "       'услуга по предоставлению ЭПИ', 'Услуги СВХ', 'Услуги СОП',\n",
       "       'Услуги таможенного склада', 'Транспортно-экспедиционные услуги',\n",
       "       'Таможенные услуги', 'Прочие доходы',\n",
       "       'Позитивне значення курсових різниць'], dtype=object)"
      ]
     },
     "execution_count": 10,
     "metadata": {},
     "output_type": "execute_result"
    }
   ],
   "source": [
    "data['Виды деятельности'].unique()"
   ]
  },
  {
   "cell_type": "code",
   "execution_count": 11,
   "metadata": {},
   "outputs": [],
   "source": [
    "str_col = [col  for col in data.columns if data[col].dtypes=='object']"
   ]
  },
  {
   "cell_type": "code",
   "execution_count": 12,
   "metadata": {},
   "outputs": [],
   "source": [
    "str_data = data.loc[:, str_col]"
   ]
  },
  {
   "cell_type": "code",
   "execution_count": 13,
   "metadata": {},
   "outputs": [
    {
     "data": {
      "text/html": [
       "<div>\n",
       "<style scoped>\n",
       "    .dataframe tbody tr th:only-of-type {\n",
       "        vertical-align: middle;\n",
       "    }\n",
       "\n",
       "    .dataframe tbody tr th {\n",
       "        vertical-align: top;\n",
       "    }\n",
       "\n",
       "    .dataframe thead th {\n",
       "        text-align: right;\n",
       "    }\n",
       "</style>\n",
       "<table border=\"1\" class=\"dataframe\">\n",
       "  <thead>\n",
       "    <tr style=\"text-align: right;\">\n",
       "      <th></th>\n",
       "      <th>CompanyKey</th>\n",
       "      <th>ProfitLoss</th>\n",
       "      <th>AccSide</th>\n",
       "      <th>Виды деятельности</th>\n",
       "      <th>Прочие доходы и расходы</th>\n",
       "      <th>Номенклатурные группы</th>\n",
       "      <th>Статьи затрат</th>\n",
       "      <th>Статьи ДДС</th>\n",
       "      <th>TargetKey</th>\n",
       "      <th>TargetName</th>\n",
       "    </tr>\n",
       "  </thead>\n",
       "  <tbody>\n",
       "    <tr>\n",
       "      <th>0</th>\n",
       "      <td>BNV</td>\n",
       "      <td>0</td>\n",
       "      <td>Dt</td>\n",
       "      <td></td>\n",
       "      <td></td>\n",
       "      <td></td>\n",
       "      <td></td>\n",
       "      <td></td>\n",
       "      <td>24</td>\n",
       "      <td>Прочие Активы</td>\n",
       "    </tr>\n",
       "    <tr>\n",
       "      <th>1</th>\n",
       "      <td>BNV</td>\n",
       "      <td>0</td>\n",
       "      <td>Cr</td>\n",
       "      <td></td>\n",
       "      <td></td>\n",
       "      <td></td>\n",
       "      <td></td>\n",
       "      <td></td>\n",
       "      <td>24</td>\n",
       "      <td>Прочие Активы</td>\n",
       "    </tr>\n",
       "    <tr>\n",
       "      <th>2</th>\n",
       "      <td>BNV</td>\n",
       "      <td>0</td>\n",
       "      <td>Dt</td>\n",
       "      <td></td>\n",
       "      <td></td>\n",
       "      <td></td>\n",
       "      <td></td>\n",
       "      <td></td>\n",
       "      <td>24</td>\n",
       "      <td>Прочие Активы</td>\n",
       "    </tr>\n",
       "    <tr>\n",
       "      <th>3</th>\n",
       "      <td>BNV</td>\n",
       "      <td>0</td>\n",
       "      <td>Cr</td>\n",
       "      <td></td>\n",
       "      <td></td>\n",
       "      <td>Основная номенклатурная группа</td>\n",
       "      <td>Списание материалов</td>\n",
       "      <td></td>\n",
       "      <td>24</td>\n",
       "      <td>Прочие Активы</td>\n",
       "    </tr>\n",
       "    <tr>\n",
       "      <th>4</th>\n",
       "      <td>BNV</td>\n",
       "      <td>0</td>\n",
       "      <td>Cr</td>\n",
       "      <td></td>\n",
       "      <td></td>\n",
       "      <td></td>\n",
       "      <td>почтовые расходы</td>\n",
       "      <td></td>\n",
       "      <td>24</td>\n",
       "      <td>Прочие Активы</td>\n",
       "    </tr>\n",
       "  </tbody>\n",
       "</table>\n",
       "</div>"
      ],
      "text/plain": [
       "  CompanyKey ProfitLoss AccSide Виды деятельности Прочие доходы и расходы  \\\n",
       "0        BNV          0      Dt                                             \n",
       "1        BNV          0      Cr                                             \n",
       "2        BNV          0      Dt                                             \n",
       "3        BNV          0      Cr                                             \n",
       "4        BNV          0      Cr                                             \n",
       "\n",
       "            Номенклатурные группы        Статьи затрат Статьи ДДС TargetKey  \\\n",
       "0                                                                        24   \n",
       "1                                                                        24   \n",
       "2                                                                        24   \n",
       "3  Основная номенклатурная группа  Списание материалов                   24   \n",
       "4                                     почтовые расходы                   24   \n",
       "\n",
       "      TargetName  \n",
       "0  Прочие Активы  \n",
       "1  Прочие Активы  \n",
       "2  Прочие Активы  \n",
       "3  Прочие Активы  \n",
       "4  Прочие Активы  "
      ]
     },
     "execution_count": 13,
     "metadata": {},
     "output_type": "execute_result"
    }
   ],
   "source": [
    "str_data.head()"
   ]
  },
  {
   "cell_type": "markdown",
   "metadata": {},
   "source": [
    "# Now i will transform str data to number\n",
    "I wana convert all str data using one-hor-encoding, i will use tree models, may be this format data help make model better"
   ]
  },
  {
   "cell_type": "code",
   "execution_count": 14,
   "metadata": {},
   "outputs": [
    {
     "data": {
      "text/plain": [
       "MLK    2102\n",
       "VES    1172\n",
       "MSS    1024\n",
       "MPI     924\n",
       "BNV     301\n",
       "VIM     301\n",
       "VMT     178\n",
       "Name: CompanyKey, dtype: int64"
      ]
     },
     "execution_count": 14,
     "metadata": {},
     "output_type": "execute_result"
    }
   ],
   "source": [
    "data.CompanyKey.value_counts()"
   ]
  },
  {
   "cell_type": "code",
   "execution_count": 15,
   "metadata": {},
   "outputs": [],
   "source": [
    "data = pd.concat([data, pd.get_dummies(data.CompanyKey, prefix=\"Company_key\")], axis=1)"
   ]
  },
  {
   "cell_type": "code",
   "execution_count": 16,
   "metadata": {},
   "outputs": [],
   "source": [
    "data.drop('CompanyKey', axis=1, inplace=True)"
   ]
  },
  {
   "cell_type": "code",
   "execution_count": 17,
   "metadata": {},
   "outputs": [],
   "source": [
    "data.ProfitLoss = data.ProfitLoss.astype(int)"
   ]
  },
  {
   "cell_type": "code",
   "execution_count": 18,
   "metadata": {},
   "outputs": [],
   "source": [
    "AccSide_dict = {j:i for i, j in enumerate(data.AccSide.unique())}"
   ]
  },
  {
   "cell_type": "code",
   "execution_count": 19,
   "metadata": {},
   "outputs": [],
   "source": [
    "data.AccSide=data.AccSide.map(AccSide_dict)"
   ]
  },
  {
   "cell_type": "code",
   "execution_count": 20,
   "metadata": {},
   "outputs": [],
   "source": [
    "data.loc[data['Виды деятельности']=='' ,'Виды деятельности']='None'"
   ]
  },
  {
   "cell_type": "code",
   "execution_count": 21,
   "metadata": {},
   "outputs": [
    {
     "data": {
      "text/plain": [
       "None                                                                    4559\n",
       "Транспортно-экспедиционные услуги                                        469\n",
       "Оптовая торговля                                                         231\n",
       "Услуги таможенного агента                                                220\n",
       "Таможенные услуги                                                        183\n",
       "Прочие доходы                                                            138\n",
       "Сертификация                                                             114\n",
       "Услуги                                                                    30\n",
       "услуга по предоставлению гарантии                                         10\n",
       "услуга по предоставлению ЭПИ                                              10\n",
       "Услуги СВХ                                                                10\n",
       "Услуги СОП                                                                10\n",
       "Услуги таможенного склада                                                 10\n",
       "Дохід операційної діяльності (від реалізації товарів, робіт, послуг)       5\n",
       "УСН                                                                        2\n",
       "Позитивне значення курсових різниць                                        1\n",
       "Name: Виды деятельности, dtype: int64"
      ]
     },
     "execution_count": 21,
     "metadata": {},
     "output_type": "execute_result"
    }
   ],
   "source": [
    "data['Виды деятельности'].value_counts()"
   ]
  },
  {
   "cell_type": "code",
   "execution_count": 22,
   "metadata": {},
   "outputs": [],
   "source": [
    "prom = pd.get_dummies(data['Виды деятельности'], prefix='WotkingType')"
   ]
  },
  {
   "cell_type": "code",
   "execution_count": 23,
   "metadata": {},
   "outputs": [],
   "source": [
    "data = pd.concat([data, prom], axis=1)"
   ]
  },
  {
   "cell_type": "code",
   "execution_count": 24,
   "metadata": {},
   "outputs": [],
   "source": [
    "data.drop('Виды деятельности', axis=1, inplace=True)"
   ]
  },
  {
   "cell_type": "code",
   "execution_count": 25,
   "metadata": {},
   "outputs": [],
   "source": [
    "agr_col = ['Прочие доходы и расходы','Номенклатурные группы','Статьи затрат','Статьи ДДС']"
   ]
  },
  {
   "cell_type": "code",
   "execution_count": 26,
   "metadata": {},
   "outputs": [],
   "source": [
    "for col in agr_col:\n",
    "    data.loc[data[col]=='', col]='None'\n",
    "    prom = pd.get_dummies(data[col], prefix=col)\n",
    "    data = pd.concat([data, prom], axis=1)\n",
    "    data.drop(col, axis=1, inplace=True)"
   ]
  },
  {
   "cell_type": "code",
   "execution_count": 27,
   "metadata": {},
   "outputs": [
    {
     "data": {
      "text/html": [
       "<div>\n",
       "<style scoped>\n",
       "    .dataframe tbody tr th:only-of-type {\n",
       "        vertical-align: middle;\n",
       "    }\n",
       "\n",
       "    .dataframe tbody tr th {\n",
       "        vertical-align: top;\n",
       "    }\n",
       "\n",
       "    .dataframe thead th {\n",
       "        text-align: right;\n",
       "    }\n",
       "</style>\n",
       "<table border=\"1\" class=\"dataframe\">\n",
       "  <thead>\n",
       "    <tr style=\"text-align: right;\">\n",
       "      <th></th>\n",
       "      <th>ProfitLoss</th>\n",
       "      <th>AccountLocal</th>\n",
       "      <th>AccSide</th>\n",
       "      <th>AccountLocalCorr</th>\n",
       "      <th>Amount</th>\n",
       "      <th>TargetKey</th>\n",
       "      <th>TargetName</th>\n",
       "      <th>Company_key_BNV</th>\n",
       "      <th>Company_key_MLK</th>\n",
       "      <th>Company_key_MPI</th>\n",
       "      <th>...</th>\n",
       "      <th>Статьи ДДС_Эквивалент после продажи валюты</th>\n",
       "      <th>Статьи ДДС_выплата дивидендов</th>\n",
       "      <th>Статьи ДДС_доход по займу</th>\n",
       "      <th>Статьи ДДС_покупка валюты</th>\n",
       "      <th>Статьи ДДС_поступления от покупателей</th>\n",
       "      <th>Статьи ДДС_проценты полученные</th>\n",
       "      <th>Статьи ДДС_расчеты по претензиям</th>\n",
       "      <th>Статьи ДДС_спонсорская помощь</th>\n",
       "      <th>Статьи ДДС_таможенное оформление</th>\n",
       "      <th>Статьи ДДС_штраф по АП</th>\n",
       "    </tr>\n",
       "  </thead>\n",
       "  <tbody>\n",
       "    <tr>\n",
       "      <th>0</th>\n",
       "      <td>0</td>\n",
       "      <td>1.0</td>\n",
       "      <td>0</td>\n",
       "      <td>8.0</td>\n",
       "      <td>395599.24</td>\n",
       "      <td>24</td>\n",
       "      <td>Прочие Активы</td>\n",
       "      <td>1</td>\n",
       "      <td>0</td>\n",
       "      <td>0</td>\n",
       "      <td>...</td>\n",
       "      <td>0</td>\n",
       "      <td>0</td>\n",
       "      <td>0</td>\n",
       "      <td>0</td>\n",
       "      <td>0</td>\n",
       "      <td>0</td>\n",
       "      <td>0</td>\n",
       "      <td>0</td>\n",
       "      <td>0</td>\n",
       "      <td>0</td>\n",
       "    </tr>\n",
       "    <tr>\n",
       "      <th>1</th>\n",
       "      <td>0</td>\n",
       "      <td>8.0</td>\n",
       "      <td>1</td>\n",
       "      <td>1.0</td>\n",
       "      <td>-395599.24</td>\n",
       "      <td>24</td>\n",
       "      <td>Прочие Активы</td>\n",
       "      <td>1</td>\n",
       "      <td>0</td>\n",
       "      <td>0</td>\n",
       "      <td>...</td>\n",
       "      <td>0</td>\n",
       "      <td>0</td>\n",
       "      <td>0</td>\n",
       "      <td>0</td>\n",
       "      <td>0</td>\n",
       "      <td>0</td>\n",
       "      <td>0</td>\n",
       "      <td>0</td>\n",
       "      <td>0</td>\n",
       "      <td>0</td>\n",
       "    </tr>\n",
       "    <tr>\n",
       "      <th>2</th>\n",
       "      <td>0</td>\n",
       "      <td>8.0</td>\n",
       "      <td>0</td>\n",
       "      <td>60.0</td>\n",
       "      <td>395599.24</td>\n",
       "      <td>24</td>\n",
       "      <td>Прочие Активы</td>\n",
       "      <td>1</td>\n",
       "      <td>0</td>\n",
       "      <td>0</td>\n",
       "      <td>...</td>\n",
       "      <td>0</td>\n",
       "      <td>0</td>\n",
       "      <td>0</td>\n",
       "      <td>0</td>\n",
       "      <td>0</td>\n",
       "      <td>0</td>\n",
       "      <td>0</td>\n",
       "      <td>0</td>\n",
       "      <td>0</td>\n",
       "      <td>0</td>\n",
       "    </tr>\n",
       "    <tr>\n",
       "      <th>3</th>\n",
       "      <td>0</td>\n",
       "      <td>10.0</td>\n",
       "      <td>1</td>\n",
       "      <td>20.0</td>\n",
       "      <td>-12868.81</td>\n",
       "      <td>24</td>\n",
       "      <td>Прочие Активы</td>\n",
       "      <td>1</td>\n",
       "      <td>0</td>\n",
       "      <td>0</td>\n",
       "      <td>...</td>\n",
       "      <td>0</td>\n",
       "      <td>0</td>\n",
       "      <td>0</td>\n",
       "      <td>0</td>\n",
       "      <td>0</td>\n",
       "      <td>0</td>\n",
       "      <td>0</td>\n",
       "      <td>0</td>\n",
       "      <td>0</td>\n",
       "      <td>0</td>\n",
       "    </tr>\n",
       "    <tr>\n",
       "      <th>4</th>\n",
       "      <td>0</td>\n",
       "      <td>10.0</td>\n",
       "      <td>1</td>\n",
       "      <td>26.0</td>\n",
       "      <td>-81507.85</td>\n",
       "      <td>24</td>\n",
       "      <td>Прочие Активы</td>\n",
       "      <td>1</td>\n",
       "      <td>0</td>\n",
       "      <td>0</td>\n",
       "      <td>...</td>\n",
       "      <td>0</td>\n",
       "      <td>0</td>\n",
       "      <td>0</td>\n",
       "      <td>0</td>\n",
       "      <td>0</td>\n",
       "      <td>0</td>\n",
       "      <td>0</td>\n",
       "      <td>0</td>\n",
       "      <td>0</td>\n",
       "      <td>0</td>\n",
       "    </tr>\n",
       "    <tr>\n",
       "      <th>...</th>\n",
       "      <td>...</td>\n",
       "      <td>...</td>\n",
       "      <td>...</td>\n",
       "      <td>...</td>\n",
       "      <td>...</td>\n",
       "      <td>...</td>\n",
       "      <td>...</td>\n",
       "      <td>...</td>\n",
       "      <td>...</td>\n",
       "      <td>...</td>\n",
       "      <td>...</td>\n",
       "      <td>...</td>\n",
       "      <td>...</td>\n",
       "      <td>...</td>\n",
       "      <td>...</td>\n",
       "      <td>...</td>\n",
       "      <td>...</td>\n",
       "      <td>...</td>\n",
       "      <td>...</td>\n",
       "      <td>...</td>\n",
       "      <td>...</td>\n",
       "    </tr>\n",
       "    <tr>\n",
       "      <th>5997</th>\n",
       "      <td>0</td>\n",
       "      <td>91.0</td>\n",
       "      <td>0</td>\n",
       "      <td>99.0</td>\n",
       "      <td>1853.61</td>\n",
       "      <td>nan</td>\n",
       "      <td>None</td>\n",
       "      <td>0</td>\n",
       "      <td>1</td>\n",
       "      <td>0</td>\n",
       "      <td>...</td>\n",
       "      <td>0</td>\n",
       "      <td>0</td>\n",
       "      <td>0</td>\n",
       "      <td>0</td>\n",
       "      <td>0</td>\n",
       "      <td>0</td>\n",
       "      <td>0</td>\n",
       "      <td>0</td>\n",
       "      <td>0</td>\n",
       "      <td>0</td>\n",
       "    </tr>\n",
       "    <tr>\n",
       "      <th>5998</th>\n",
       "      <td>0</td>\n",
       "      <td>91.0</td>\n",
       "      <td>0</td>\n",
       "      <td>99.0</td>\n",
       "      <td>5125.71</td>\n",
       "      <td>nan</td>\n",
       "      <td>None</td>\n",
       "      <td>0</td>\n",
       "      <td>1</td>\n",
       "      <td>0</td>\n",
       "      <td>...</td>\n",
       "      <td>0</td>\n",
       "      <td>0</td>\n",
       "      <td>0</td>\n",
       "      <td>0</td>\n",
       "      <td>0</td>\n",
       "      <td>0</td>\n",
       "      <td>0</td>\n",
       "      <td>0</td>\n",
       "      <td>0</td>\n",
       "      <td>0</td>\n",
       "    </tr>\n",
       "    <tr>\n",
       "      <th>5999</th>\n",
       "      <td>1</td>\n",
       "      <td>732.0</td>\n",
       "      <td>1</td>\n",
       "      <td>311.0</td>\n",
       "      <td>-1822.43</td>\n",
       "      <td>nan</td>\n",
       "      <td>None</td>\n",
       "      <td>0</td>\n",
       "      <td>0</td>\n",
       "      <td>0</td>\n",
       "      <td>...</td>\n",
       "      <td>0</td>\n",
       "      <td>0</td>\n",
       "      <td>0</td>\n",
       "      <td>0</td>\n",
       "      <td>0</td>\n",
       "      <td>0</td>\n",
       "      <td>0</td>\n",
       "      <td>0</td>\n",
       "      <td>0</td>\n",
       "      <td>0</td>\n",
       "    </tr>\n",
       "    <tr>\n",
       "      <th>6000</th>\n",
       "      <td>0</td>\n",
       "      <td>91.0</td>\n",
       "      <td>0</td>\n",
       "      <td>99.0</td>\n",
       "      <td>13.33</td>\n",
       "      <td>nan</td>\n",
       "      <td>None</td>\n",
       "      <td>0</td>\n",
       "      <td>1</td>\n",
       "      <td>0</td>\n",
       "      <td>...</td>\n",
       "      <td>0</td>\n",
       "      <td>0</td>\n",
       "      <td>0</td>\n",
       "      <td>0</td>\n",
       "      <td>0</td>\n",
       "      <td>0</td>\n",
       "      <td>0</td>\n",
       "      <td>0</td>\n",
       "      <td>0</td>\n",
       "      <td>0</td>\n",
       "    </tr>\n",
       "    <tr>\n",
       "      <th>6001</th>\n",
       "      <td>1</td>\n",
       "      <td>732.0</td>\n",
       "      <td>1</td>\n",
       "      <td>311.0</td>\n",
       "      <td>-37927.14</td>\n",
       "      <td>nan</td>\n",
       "      <td>None</td>\n",
       "      <td>0</td>\n",
       "      <td>0</td>\n",
       "      <td>0</td>\n",
       "      <td>...</td>\n",
       "      <td>0</td>\n",
       "      <td>0</td>\n",
       "      <td>0</td>\n",
       "      <td>0</td>\n",
       "      <td>0</td>\n",
       "      <td>0</td>\n",
       "      <td>0</td>\n",
       "      <td>0</td>\n",
       "      <td>0</td>\n",
       "      <td>0</td>\n",
       "    </tr>\n",
       "  </tbody>\n",
       "</table>\n",
       "<p>6002 rows × 673 columns</p>\n",
       "</div>"
      ],
      "text/plain": [
       "      ProfitLoss  AccountLocal  AccSide  AccountLocalCorr     Amount  \\\n",
       "0              0           1.0        0               8.0  395599.24   \n",
       "1              0           8.0        1               1.0 -395599.24   \n",
       "2              0           8.0        0              60.0  395599.24   \n",
       "3              0          10.0        1              20.0  -12868.81   \n",
       "4              0          10.0        1              26.0  -81507.85   \n",
       "...          ...           ...      ...               ...        ...   \n",
       "5997           0          91.0        0              99.0    1853.61   \n",
       "5998           0          91.0        0              99.0    5125.71   \n",
       "5999           1         732.0        1             311.0   -1822.43   \n",
       "6000           0          91.0        0              99.0      13.33   \n",
       "6001           1         732.0        1             311.0  -37927.14   \n",
       "\n",
       "     TargetKey     TargetName  Company_key_BNV  Company_key_MLK  \\\n",
       "0           24  Прочие Активы                1                0   \n",
       "1           24  Прочие Активы                1                0   \n",
       "2           24  Прочие Активы                1                0   \n",
       "3           24  Прочие Активы                1                0   \n",
       "4           24  Прочие Активы                1                0   \n",
       "...        ...            ...              ...              ...   \n",
       "5997       nan           None                0                1   \n",
       "5998       nan           None                0                1   \n",
       "5999       nan           None                0                0   \n",
       "6000       nan           None                0                1   \n",
       "6001       nan           None                0                0   \n",
       "\n",
       "      Company_key_MPI  ...  Статьи ДДС_Эквивалент после продажи валюты  \\\n",
       "0                   0  ...                                           0   \n",
       "1                   0  ...                                           0   \n",
       "2                   0  ...                                           0   \n",
       "3                   0  ...                                           0   \n",
       "4                   0  ...                                           0   \n",
       "...               ...  ...                                         ...   \n",
       "5997                0  ...                                           0   \n",
       "5998                0  ...                                           0   \n",
       "5999                0  ...                                           0   \n",
       "6000                0  ...                                           0   \n",
       "6001                0  ...                                           0   \n",
       "\n",
       "      Статьи ДДС_выплата дивидендов  Статьи ДДС_доход по займу  \\\n",
       "0                                 0                          0   \n",
       "1                                 0                          0   \n",
       "2                                 0                          0   \n",
       "3                                 0                          0   \n",
       "4                                 0                          0   \n",
       "...                             ...                        ...   \n",
       "5997                              0                          0   \n",
       "5998                              0                          0   \n",
       "5999                              0                          0   \n",
       "6000                              0                          0   \n",
       "6001                              0                          0   \n",
       "\n",
       "      Статьи ДДС_покупка валюты  Статьи ДДС_поступления от покупателей  \\\n",
       "0                             0                                      0   \n",
       "1                             0                                      0   \n",
       "2                             0                                      0   \n",
       "3                             0                                      0   \n",
       "4                             0                                      0   \n",
       "...                         ...                                    ...   \n",
       "5997                          0                                      0   \n",
       "5998                          0                                      0   \n",
       "5999                          0                                      0   \n",
       "6000                          0                                      0   \n",
       "6001                          0                                      0   \n",
       "\n",
       "      Статьи ДДС_проценты полученные  Статьи ДДС_расчеты по претензиям  \\\n",
       "0                                  0                                 0   \n",
       "1                                  0                                 0   \n",
       "2                                  0                                 0   \n",
       "3                                  0                                 0   \n",
       "4                                  0                                 0   \n",
       "...                              ...                               ...   \n",
       "5997                               0                                 0   \n",
       "5998                               0                                 0   \n",
       "5999                               0                                 0   \n",
       "6000                               0                                 0   \n",
       "6001                               0                                 0   \n",
       "\n",
       "      Статьи ДДС_спонсорская помощь  Статьи ДДС_таможенное оформление  \\\n",
       "0                                 0                                 0   \n",
       "1                                 0                                 0   \n",
       "2                                 0                                 0   \n",
       "3                                 0                                 0   \n",
       "4                                 0                                 0   \n",
       "...                             ...                               ...   \n",
       "5997                              0                                 0   \n",
       "5998                              0                                 0   \n",
       "5999                              0                                 0   \n",
       "6000                              0                                 0   \n",
       "6001                              0                                 0   \n",
       "\n",
       "      Статьи ДДС_штраф по АП  \n",
       "0                          0  \n",
       "1                          0  \n",
       "2                          0  \n",
       "3                          0  \n",
       "4                          0  \n",
       "...                      ...  \n",
       "5997                       0  \n",
       "5998                       0  \n",
       "5999                       0  \n",
       "6000                       0  \n",
       "6001                       0  \n",
       "\n",
       "[6002 rows x 673 columns]"
      ]
     },
     "execution_count": 27,
     "metadata": {},
     "output_type": "execute_result"
    }
   ],
   "source": [
    "data"
   ]
  },
  {
   "cell_type": "code",
   "execution_count": 28,
   "metadata": {},
   "outputs": [
    {
     "data": {
      "text/html": [
       "<div>\n",
       "<style scoped>\n",
       "    .dataframe tbody tr th:only-of-type {\n",
       "        vertical-align: middle;\n",
       "    }\n",
       "\n",
       "    .dataframe tbody tr th {\n",
       "        vertical-align: top;\n",
       "    }\n",
       "\n",
       "    .dataframe thead th {\n",
       "        text-align: right;\n",
       "    }\n",
       "</style>\n",
       "<table border=\"1\" class=\"dataframe\">\n",
       "  <thead>\n",
       "    <tr style=\"text-align: right;\">\n",
       "      <th></th>\n",
       "      <th>ProfitLoss</th>\n",
       "      <th>AccountLocal</th>\n",
       "      <th>AccSide</th>\n",
       "      <th>AccountLocalCorr</th>\n",
       "      <th>Amount</th>\n",
       "      <th>TargetKey</th>\n",
       "      <th>TargetName</th>\n",
       "      <th>Company_key_BNV</th>\n",
       "      <th>Company_key_MLK</th>\n",
       "      <th>Company_key_MPI</th>\n",
       "      <th>...</th>\n",
       "      <th>Статьи ДДС_Эквивалент после продажи валюты</th>\n",
       "      <th>Статьи ДДС_выплата дивидендов</th>\n",
       "      <th>Статьи ДДС_доход по займу</th>\n",
       "      <th>Статьи ДДС_покупка валюты</th>\n",
       "      <th>Статьи ДДС_поступления от покупателей</th>\n",
       "      <th>Статьи ДДС_проценты полученные</th>\n",
       "      <th>Статьи ДДС_расчеты по претензиям</th>\n",
       "      <th>Статьи ДДС_спонсорская помощь</th>\n",
       "      <th>Статьи ДДС_таможенное оформление</th>\n",
       "      <th>Статьи ДДС_штраф по АП</th>\n",
       "    </tr>\n",
       "  </thead>\n",
       "  <tbody>\n",
       "  </tbody>\n",
       "</table>\n",
       "<p>0 rows × 673 columns</p>\n",
       "</div>"
      ],
      "text/plain": [
       "Empty DataFrame\n",
       "Columns: [ProfitLoss, AccountLocal, AccSide, AccountLocalCorr, Amount, TargetKey, TargetName, Company_key_BNV, Company_key_MLK, Company_key_MPI, Company_key_MSS, Company_key_VES, Company_key_VIM, Company_key_VMT, WotkingType_None, WotkingType_Дохід операційної діяльності (від реалізації товарів, робіт, послуг), WotkingType_Оптовая торговля, WotkingType_Позитивне значення курсових різниць, WotkingType_Прочие доходы, WotkingType_Сертификация, WotkingType_Таможенные услуги, WotkingType_Транспортно-экспедиционные услуги, WotkingType_УСН, WotkingType_Услуги, WotkingType_Услуги СВХ, WotkingType_Услуги СОП, WotkingType_Услуги таможенного агента, WotkingType_Услуги таможенного склада, WotkingType_услуга по предоставлению ЭПИ, WotkingType_услуга по предоставлению гарантии, Прочие доходы и расходы_% полученные, Прочие доходы и расходы_None, Прочие доходы и расходы_Амортизация основных средств и нематериальных активов, не используемых в предпринимательской деят-ти, Прочие доходы и расходы_Аренда, доходы связанные со сдачей имущества в аренду, Прочие доходы и расходы_БГС на соцвыплаты, Прочие доходы и расходы_Безвозмездная (спонсорская) помощь, Прочие доходы и расходы_Взносы в ФСЗН неучитываемые, Прочие доходы и расходы_Возмещение расходов, Прочие доходы и расходы_Возмещение судебных расходов, Прочие доходы и расходы_Выбытие запасов, Прочие доходы и расходы_Выдача новогодних подарков, Прочие доходы и расходы_Выдача подарков, Прочие доходы и расходы_Выдача трудовых книжек и вкладышей к ним, Прочие доходы и расходы_Выплата купонного дохода по облигациям, Прочие доходы и расходы_Выплата процентов по депозитному договору, Прочие доходы и расходы_Відсотки по кредиту, Прочие доходы и расходы_Госпошлина в суд, Прочие доходы и расходы_Госпошлина за выписку из ЕГР, Прочие доходы и расходы_Государственная пошлина за рассмотрение дела в суде, Прочие доходы и расходы_Дебиторская и кредиторская задолженность - истек срок исковой давн., Прочие доходы и расходы_Добровольные взносы в Ассоциацию, Прочие доходы и расходы_Доп. расходы невозмещаемые клиентом, Прочие доходы и расходы_Доход по облигациям, Прочие доходы и расходы_Доходы (расходы), связанные с продажей (покупкой) валюты, Прочие доходы и расходы_Земельный налог, Прочие доходы и расходы_Истечение срока исковой давности, Прочие доходы и расходы_Конверсия валюты, Прочие доходы и расходы_Консультационные услуги, Прочие доходы и расходы_Курсовые разницы, Прочие доходы и расходы_Курсовые разницы по расчетам в у.е., Прочие доходы и расходы_Курсовые разницы-, Прочие доходы и расходы_Материальная помощь по законодательству, Прочие доходы и расходы_Медстраховка (компенсация работнику), Прочие доходы и расходы_НДС, Прочие доходы и расходы_НДС по внереализ.операциям, Прочие доходы и расходы_НДС по выданным новогодним подаркам, Прочие доходы и расходы_Налог на доходы, удержанный в иностранном государстве, Прочие доходы и расходы_Налог на недвижимость, Прочие доходы и расходы_Начисление процентов по займам к выплате (получению), Прочие доходы и расходы_Начисленные (отсторнированные) таможенные платежи ввиду возн. новых событий, Прочие доходы и расходы_Не принимамые расходы и расходы НУ, Прочие доходы и расходы_Обязательное страхование неучитываемые, Прочие доходы и расходы_Операции с передачей/продажей доли в УФ общества, Прочие доходы и расходы_Оплаченный купонный доход, Прочие доходы и расходы_Отклонения курса продажи (покупки) иностранной валюты от официального курса, Прочие доходы и расходы_Оценка объектов для передачи в залог, Прочие доходы и расходы_Пеня, Прочие доходы и расходы_Пеня по налогам, Прочие доходы и расходы_Плата за остатки по счетам, Прочие доходы и расходы_Погашение дебиторской задолженности, ранее списанной как безнадежная, Прочие доходы и расходы_Признание покупателем пени,% за пользование ден.ср. по реш.суда, Прочие доходы и расходы_Проведение семинаров, спортивных мероприятий, Прочие доходы и расходы_Продажа основного средства, Прочие доходы и расходы_Проценты банка, Прочие доходы и расходы_Проценты к получению, Прочие доходы и расходы_Проценты по депозиту, Прочие доходы и расходы_Проценты по займам, Прочие доходы и расходы_Проценты по займам юридическим лицам, Прочие доходы и расходы_Проценты по займу, Прочие доходы и расходы_Проценты по кредитам банка, Прочие доходы и расходы_Проценты по кредиту, Прочие доходы и расходы_Прочие внереализационные доходы (расходы), Прочие доходы и расходы_Прочие расходы, Прочие доходы и расходы_Прочие расходы по текущей деятельности, Прочие доходы и расходы_Прочие расходы по текущей деятельности, не учитываемые при налогооблож., Прочие доходы и расходы_Разница за счет округлений, Прочие доходы и расходы_Разница между тек. стоимостью и договорной ценой (облигации), Прочие доходы и расходы_Расходы на санитарно-противоэпидемические мероприятия, Прочие доходы и расходы_Расходы на услуги банков, Прочие доходы и расходы_Расходы не участвующие в налогообложении, ...]\n",
       "Index: []\n",
       "\n",
       "[0 rows x 673 columns]"
      ]
     },
     "execution_count": 28,
     "metadata": {},
     "output_type": "execute_result"
    }
   ],
   "source": [
    "data.loc[data.TargetKey.isnull(), :]"
   ]
  },
  {
   "cell_type": "code",
   "execution_count": 29,
   "metadata": {},
   "outputs": [],
   "source": [
    "train_data = data.loc[data.TargetKey!='nan', :]"
   ]
  },
  {
   "cell_type": "code",
   "execution_count": 30,
   "metadata": {},
   "outputs": [],
   "source": [
    "for_target_dict = train_data.loc[:, ['TargetKey','TargetName']].drop_duplicates()\n",
    "target_dict = {i:j for i, j in zip(for_target_dict.TargetKey, for_target_dict.TargetName)}"
   ]
  },
  {
   "cell_type": "code",
   "execution_count": 31,
   "metadata": {},
   "outputs": [
    {
     "name": "stderr",
     "output_type": "stream",
     "text": [
      "/home/uladzimir/anaconda3/envs/biv_arr/lib/python3.9/site-packages/pandas/core/frame.py:4906: SettingWithCopyWarning: \n",
      "A value is trying to be set on a copy of a slice from a DataFrame\n",
      "\n",
      "See the caveats in the documentation: https://pandas.pydata.org/pandas-docs/stable/user_guide/indexing.html#returning-a-view-versus-a-copy\n",
      "  return super().drop(\n"
     ]
    }
   ],
   "source": [
    "train_data.drop('TargetName', axis=1, inplace=True)"
   ]
  },
  {
   "cell_type": "code",
   "execution_count": 32,
   "metadata": {},
   "outputs": [
    {
     "name": "stderr",
     "output_type": "stream",
     "text": [
      "/home/uladzimir/anaconda3/envs/biv_arr/lib/python3.9/site-packages/pandas/core/generic.py:5516: SettingWithCopyWarning: \n",
      "A value is trying to be set on a copy of a slice from a DataFrame.\n",
      "Try using .loc[row_indexer,col_indexer] = value instead\n",
      "\n",
      "See the caveats in the documentation: https://pandas.pydata.org/pandas-docs/stable/user_guide/indexing.html#returning-a-view-versus-a-copy\n",
      "  self[name] = value\n"
     ]
    }
   ],
   "source": [
    "train_data.TargetKey= train_data.TargetKey.astype(int)"
   ]
  },
  {
   "cell_type": "code",
   "execution_count": 33,
   "metadata": {},
   "outputs": [],
   "source": [
    "X = train_data.drop('TargetKey', axis=1)\n",
    "y = train_data.TargetKey"
   ]
  },
  {
   "cell_type": "code",
   "execution_count": 65,
   "metadata": {},
   "outputs": [],
   "source": [
    "from sklearn.tree import DecisionTreeClassifier,ExtraTreeClassifier, plot_tree\n",
    "from sklearn.model_selection import train_test_split, learning_curve\n",
    "from sklearn.metrics import accuracy_score\n",
    "import matplotlib.pyplot as plt"
   ]
  },
  {
   "cell_type": "code",
   "execution_count": 37,
   "metadata": {},
   "outputs": [],
   "source": [
    "X_train, X_test, y_train, y_test = train_test_split(X, y, test_size=0.3, random_state=30)"
   ]
  },
  {
   "cell_type": "code",
   "execution_count": 38,
   "metadata": {},
   "outputs": [],
   "source": [
    "dec_tree = DecisionTreeClassifier() \n",
    "extra_tree = ExtraTreeClassifier()"
   ]
  },
  {
   "cell_type": "code",
   "execution_count": 40,
   "metadata": {},
   "outputs": [
    {
     "data": {
      "text/plain": [
       "ExtraTreeClassifier()"
      ]
     },
     "execution_count": 40,
     "metadata": {},
     "output_type": "execute_result"
    }
   ],
   "source": [
    "dec_tree.fit(X_train, y_train)\n",
    "extra_tree.fit(X_train, y_train)"
   ]
  },
  {
   "cell_type": "code",
   "execution_count": 50,
   "metadata": {},
   "outputs": [],
   "source": []
  },
  {
   "cell_type": "code",
   "execution_count": 60,
   "metadata": {},
   "outputs": [],
   "source": [
    "pred_dec = dec_tree.predict(X_test)\n",
    "pred_extra = extra_tree.predict(X_test)"
   ]
  },
  {
   "cell_type": "code",
   "execution_count": 62,
   "metadata": {},
   "outputs": [
    {
     "name": "stdout",
     "output_type": "stream",
     "text": [
      "dec_tree 0.9064885496183206 \n",
      " extra_tree 0.6040076335877863\n"
     ]
    }
   ],
   "source": [
    "print(f\"dec_tree {accuracy_score(y_test, pred_dec)} \\n extra_tree {accuracy_score(y_test, pred_extra)}\")"
   ]
  },
  {
   "cell_type": "code",
   "execution_count": 68,
   "metadata": {},
   "outputs": [],
   "source": [
    "num_test = np.linspace(0.3, 1, 10)"
   ]
  },
  {
   "cell_type": "code",
   "execution_count": 90,
   "metadata": {},
   "outputs": [
    {
     "name": "stderr",
     "output_type": "stream",
     "text": [
      "/home/uladzimir/anaconda3/envs/biv_arr/lib/python3.9/site-packages/sklearn/model_selection/_split.py:676: UserWarning: The least populated class in y has only 1 members, which is less than n_splits=10.\n",
      "  warnings.warn(\n"
     ]
    }
   ],
   "source": [
    "train_sizes, train_scores, validation_scores  = learning_curve(\n",
    "        DecisionTreeClassifier(),\n",
    "        X,\n",
    "        y,\n",
    "        cv=10,\n",
    "        train_sizes = num_test,\n",
    "        scoring = 'accuracy',\n",
    "        n_jobs=-1,\n",
    "    )"
   ]
  },
  {
   "cell_type": "code",
   "execution_count": 93,
   "metadata": {},
   "outputs": [],
   "source": [
    "train_scores_mean = train_scores.mean(axis = 1)\n",
    "validation_scores_mean = validation_scores.mean(axis =1)"
   ]
  },
  {
   "cell_type": "code",
   "execution_count": 94,
   "metadata": {},
   "outputs": [
    {
     "data": {
      "text/plain": [
       "<matplotlib.legend.Legend at 0x7f7442d25d60>"
      ]
     },
     "execution_count": 94,
     "metadata": {},
     "output_type": "execute_result"
    },
    {
     "data": {
      "image/png": "[encoded data removed]",
      "text/plain": [
       "<Figure size 576x396 with 1 Axes>"
      ]
     },
     "metadata": {},
     "output_type": "display_data"
    }
   ],
   "source": [
    "plt.style.use('seaborn')\n",
    "plt.plot(train_sizes, train_scores_mean, label = 'Training error')\n",
    "plt.plot(train_sizes, validation_scores_mean, label = 'Validation error')\n",
    "plt.ylabel('accuracy', fontsize = 14)\n",
    "plt.xlabel('Training set size', fontsize = 14)\n",
    "plt.title('Learning curves for DecisionTreeClassifier', fontsize = 18, y = 1.03)\n",
    "plt.legend()"
   ]
  },
  {
   "cell_type": "code",
   "execution_count": 99,
   "metadata": {},
   "outputs": [
    {
     "ename": "AttributeError",
     "evalue": "'Series' object has no attribute 'sorted'",
     "output_type": "error",
     "traceback": [
      "\u001b[0;31m---------------------------------------------------------------------------\u001b[0m",
      "\u001b[0;31mAttributeError\u001b[0m                            Traceback (most recent call last)",
      "\u001b[0;32m/tmp/ipykernel_3863/976350428.py\u001b[0m in \u001b[0;36m<module>\u001b[0;34m\u001b[0m\n\u001b[0;32m----> 1\u001b[0;31m \u001b[0my\u001b[0m\u001b[0;34m.\u001b[0m\u001b[0mvalue_counts\u001b[0m\u001b[0;34m(\u001b[0m\u001b[0;34m)\u001b[0m\u001b[0;34m.\u001b[0m\u001b[0msorted\u001b[0m\u001b[0;34m\u001b[0m\u001b[0;34m\u001b[0m\u001b[0m\n\u001b[0m",
      "\u001b[0;32m~/anaconda3/envs/biv_arr/lib/python3.9/site-packages/pandas/core/generic.py\u001b[0m in \u001b[0;36m__getattr__\u001b[0;34m(self, name)\u001b[0m\n\u001b[1;32m   5485\u001b[0m         ):\n\u001b[1;32m   5486\u001b[0m             \u001b[0;32mreturn\u001b[0m \u001b[0mself\u001b[0m\u001b[0;34m[\u001b[0m\u001b[0mname\u001b[0m\u001b[0;34m]\u001b[0m\u001b[0;34m\u001b[0m\u001b[0;34m\u001b[0m\u001b[0m\n\u001b[0;32m-> 5487\u001b[0;31m         \u001b[0;32mreturn\u001b[0m \u001b[0mobject\u001b[0m\u001b[0;34m.\u001b[0m\u001b[0m__getattribute__\u001b[0m\u001b[0;34m(\u001b[0m\u001b[0mself\u001b[0m\u001b[0;34m,\u001b[0m \u001b[0mname\u001b[0m\u001b[0;34m)\u001b[0m\u001b[0;34m\u001b[0m\u001b[0;34m\u001b[0m\u001b[0m\n\u001b[0m\u001b[1;32m   5488\u001b[0m \u001b[0;34m\u001b[0m\u001b[0m\n\u001b[1;32m   5489\u001b[0m     \u001b[0;32mdef\u001b[0m \u001b[0m__setattr__\u001b[0m\u001b[0;34m(\u001b[0m\u001b[0mself\u001b[0m\u001b[0;34m,\u001b[0m \u001b[0mname\u001b[0m\u001b[0;34m:\u001b[0m \u001b[0mstr\u001b[0m\u001b[0;34m,\u001b[0m \u001b[0mvalue\u001b[0m\u001b[0;34m)\u001b[0m \u001b[0;34m->\u001b[0m \u001b[0;32mNone\u001b[0m\u001b[0;34m:\u001b[0m\u001b[0;34m\u001b[0m\u001b[0;34m\u001b[0m\u001b[0m\n",
      "\u001b[0;31mAttributeError\u001b[0m: 'Series' object has no attribute 'sorted'"
     ]
    }
   ],
   "source": []
  }
 ],
 "metadata": {
  "interpreter": {
   "hash": "56f1a0fe0ae983e1d8188b8efb8f5f3e6c962953746add713e877f0c7a0a2b04"
  },
  "kernelspec": {
   "display_name": "Python 3.9.7 64-bit ('biv_arr': conda)",
   "name": "python3"
  },
  "language_info": {
   "codemirror_mode": {
    "name": "ipython",
    "version": 3
   },
   "file_extension": ".py",
   "mimetype": "text/x-python",
   "name": "python",
   "nbconvert_exporter": "python",
   "pygments_lexer": "ipython3",
   "version": "3.9.7"
  },
  "orig_nbformat": 4
 },
 "nbformat": 4,
 "nbformat_minor": 2
}
