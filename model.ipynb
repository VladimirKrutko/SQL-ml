{
 "cells": [
  {
   "cell_type": "markdown",
   "metadata": {},
   "source": [
    "Main task is create model for predict class of record\n",
    "It's my second notebook, in the first got bed metrics and i redone data transform"
   ]
  },
  {
   "cell_type": "code",
   "execution_count": 35,
   "metadata": {},
   "outputs": [],
   "source": [
    "import numpy as np\n",
    "import pandas as pd"
   ]
  },
  {
   "cell_type": "code",
   "execution_count": 36,
   "metadata": {},
   "outputs": [],
   "source": [
    "start_data = pd.read_parquet('train.parquet')"
   ]
  },
  {
   "cell_type": "code",
   "execution_count": 37,
   "metadata": {},
   "outputs": [
    {
     "data": {
      "text/html": [
       "<div>\n",
       "<style scoped>\n",
       "    .dataframe tbody tr th:only-of-type {\n",
       "        vertical-align: middle;\n",
       "    }\n",
       "\n",
       "    .dataframe tbody tr th {\n",
       "        vertical-align: top;\n",
       "    }\n",
       "\n",
       "    .dataframe thead th {\n",
       "        text-align: right;\n",
       "    }\n",
       "</style>\n",
       "<table border=\"1\" class=\"dataframe\">\n",
       "  <thead>\n",
       "    <tr style=\"text-align: right;\">\n",
       "      <th></th>\n",
       "      <th>CompanyKey</th>\n",
       "      <th>ProfitLoss</th>\n",
       "      <th>AccountLocal</th>\n",
       "      <th>AccSide</th>\n",
       "      <th>AccountLocalCorr</th>\n",
       "      <th>Виды деятельности</th>\n",
       "      <th>Прочие доходы и расходы</th>\n",
       "      <th>Номенклатурные группы</th>\n",
       "      <th>Статьи затрат</th>\n",
       "      <th>Статьи ДДС</th>\n",
       "      <th>Amount</th>\n",
       "      <th>TargetKey</th>\n",
       "      <th>TargetName</th>\n",
       "    </tr>\n",
       "  </thead>\n",
       "  <tbody>\n",
       "    <tr>\n",
       "      <th>0</th>\n",
       "      <td>BNV</td>\n",
       "      <td>0</td>\n",
       "      <td>01</td>\n",
       "      <td>Dt</td>\n",
       "      <td>08</td>\n",
       "      <td></td>\n",
       "      <td></td>\n",
       "      <td></td>\n",
       "      <td></td>\n",
       "      <td></td>\n",
       "      <td>395599.24</td>\n",
       "      <td>24</td>\n",
       "      <td>Прочие Активы</td>\n",
       "    </tr>\n",
       "    <tr>\n",
       "      <th>1</th>\n",
       "      <td>BNV</td>\n",
       "      <td>0</td>\n",
       "      <td>08</td>\n",
       "      <td>Cr</td>\n",
       "      <td>01</td>\n",
       "      <td></td>\n",
       "      <td></td>\n",
       "      <td></td>\n",
       "      <td></td>\n",
       "      <td></td>\n",
       "      <td>-395599.24</td>\n",
       "      <td>24</td>\n",
       "      <td>Прочие Активы</td>\n",
       "    </tr>\n",
       "    <tr>\n",
       "      <th>2</th>\n",
       "      <td>BNV</td>\n",
       "      <td>0</td>\n",
       "      <td>08</td>\n",
       "      <td>Dt</td>\n",
       "      <td>60</td>\n",
       "      <td></td>\n",
       "      <td></td>\n",
       "      <td></td>\n",
       "      <td></td>\n",
       "      <td></td>\n",
       "      <td>395599.24</td>\n",
       "      <td>24</td>\n",
       "      <td>Прочие Активы</td>\n",
       "    </tr>\n",
       "    <tr>\n",
       "      <th>3</th>\n",
       "      <td>BNV</td>\n",
       "      <td>0</td>\n",
       "      <td>10</td>\n",
       "      <td>Cr</td>\n",
       "      <td>20</td>\n",
       "      <td></td>\n",
       "      <td></td>\n",
       "      <td>Основная номенклатурная группа</td>\n",
       "      <td>Списание материалов</td>\n",
       "      <td></td>\n",
       "      <td>-12868.81</td>\n",
       "      <td>24</td>\n",
       "      <td>Прочие Активы</td>\n",
       "    </tr>\n",
       "    <tr>\n",
       "      <th>4</th>\n",
       "      <td>BNV</td>\n",
       "      <td>0</td>\n",
       "      <td>10</td>\n",
       "      <td>Cr</td>\n",
       "      <td>26</td>\n",
       "      <td></td>\n",
       "      <td></td>\n",
       "      <td></td>\n",
       "      <td>почтовые расходы</td>\n",
       "      <td></td>\n",
       "      <td>-81507.85</td>\n",
       "      <td>24</td>\n",
       "      <td>Прочие Активы</td>\n",
       "    </tr>\n",
       "  </tbody>\n",
       "</table>\n",
       "</div>"
      ],
      "text/plain": [
       "  CompanyKey ProfitLoss AccountLocal AccSide AccountLocalCorr  \\\n",
       "0        BNV          0           01      Dt               08   \n",
       "1        BNV          0           08      Cr               01   \n",
       "2        BNV          0           08      Dt               60   \n",
       "3        BNV          0           10      Cr               20   \n",
       "4        BNV          0           10      Cr               26   \n",
       "\n",
       "  Виды деятельности Прочие доходы и расходы           Номенклатурные группы  \\\n",
       "0                                                                             \n",
       "1                                                                             \n",
       "2                                                                             \n",
       "3                                            Основная номенклатурная группа   \n",
       "4                                                                             \n",
       "\n",
       "         Статьи затрат Статьи ДДС     Amount TargetKey     TargetName  \n",
       "0                                  395599.24        24  Прочие Активы  \n",
       "1                                 -395599.24        24  Прочие Активы  \n",
       "2                                  395599.24        24  Прочие Активы  \n",
       "3  Списание материалов             -12868.81        24  Прочие Активы  \n",
       "4     почтовые расходы             -81507.85        24  Прочие Активы  "
      ]
     },
     "execution_count": 37,
     "metadata": {},
     "output_type": "execute_result"
    }
   ],
   "source": [
    "start_data.head()"
   ]
  },
  {
   "cell_type": "code",
   "execution_count": 40,
   "metadata": {},
   "outputs": [
    {
     "data": {
      "text/plain": [
       "CompanyKey                    0\n",
       "ProfitLoss                    0\n",
       "AccountLocal                  0\n",
       "AccSide                       0\n",
       "AccountLocalCorr              0\n",
       "Виды деятельности             0\n",
       "Прочие доходы и расходы       0\n",
       "Номенклатурные группы         0\n",
       "Статьи затрат                 0\n",
       "Статьи ДДС                    0\n",
       "Amount                        0\n",
       "TargetKey                  2510\n",
       "TargetName                 2510\n",
       "dtype: int64"
      ]
     },
     "execution_count": 40,
     "metadata": {},
     "output_type": "execute_result"
    }
   ],
   "source": [
    "start_data.isnull().sum()"
   ]
  },
  {
   "cell_type": "code",
   "execution_count": 42,
   "metadata": {},
   "outputs": [],
   "source": [
    " start_data.AccountLocal =start_data.AccountLocal.astype(float)"
   ]
  },
  {
   "cell_type": "code",
   "execution_count": 43,
   "metadata": {},
   "outputs": [],
   "source": [
    "start_data.AccountLocalCorr = start_data.AccountLocalCorr.astype(float)"
   ]
  },
  {
   "cell_type": "code",
   "execution_count": 44,
   "metadata": {},
   "outputs": [],
   "source": [
    "for col in start_data.columns:\n",
    "    if (start_data[col].dtype!=str) & (start_data[col].dtype!=float):\n",
    "        start_data[col] =start_data[col].astype(str)"
   ]
  },
  {
   "cell_type": "code",
   "execution_count": 47,
   "metadata": {},
   "outputs": [],
   "source": [
    "str_col = [col  for col in start_data.columns if start_data[col].dtypes=='object']"
   ]
  },
  {
   "cell_type": "code",
   "execution_count": 48,
   "metadata": {},
   "outputs": [],
   "source": [
    "str_data = start_data.loc[:, str_col]"
   ]
  },
  {
   "cell_type": "code",
   "execution_count": 49,
   "metadata": {},
   "outputs": [
    {
     "data": {
      "text/html": [
       "<div>\n",
       "<style scoped>\n",
       "    .dataframe tbody tr th:only-of-type {\n",
       "        vertical-align: middle;\n",
       "    }\n",
       "\n",
       "    .dataframe tbody tr th {\n",
       "        vertical-align: top;\n",
       "    }\n",
       "\n",
       "    .dataframe thead th {\n",
       "        text-align: right;\n",
       "    }\n",
       "</style>\n",
       "<table border=\"1\" class=\"dataframe\">\n",
       "  <thead>\n",
       "    <tr style=\"text-align: right;\">\n",
       "      <th></th>\n",
       "      <th>CompanyKey</th>\n",
       "      <th>ProfitLoss</th>\n",
       "      <th>AccSide</th>\n",
       "      <th>Виды деятельности</th>\n",
       "      <th>Прочие доходы и расходы</th>\n",
       "      <th>Номенклатурные группы</th>\n",
       "      <th>Статьи затрат</th>\n",
       "      <th>Статьи ДДС</th>\n",
       "      <th>TargetKey</th>\n",
       "      <th>TargetName</th>\n",
       "    </tr>\n",
       "  </thead>\n",
       "  <tbody>\n",
       "    <tr>\n",
       "      <th>0</th>\n",
       "      <td>BNV</td>\n",
       "      <td>0</td>\n",
       "      <td>Dt</td>\n",
       "      <td></td>\n",
       "      <td></td>\n",
       "      <td></td>\n",
       "      <td></td>\n",
       "      <td></td>\n",
       "      <td>24</td>\n",
       "      <td>Прочие Активы</td>\n",
       "    </tr>\n",
       "    <tr>\n",
       "      <th>1</th>\n",
       "      <td>BNV</td>\n",
       "      <td>0</td>\n",
       "      <td>Cr</td>\n",
       "      <td></td>\n",
       "      <td></td>\n",
       "      <td></td>\n",
       "      <td></td>\n",
       "      <td></td>\n",
       "      <td>24</td>\n",
       "      <td>Прочие Активы</td>\n",
       "    </tr>\n",
       "    <tr>\n",
       "      <th>2</th>\n",
       "      <td>BNV</td>\n",
       "      <td>0</td>\n",
       "      <td>Dt</td>\n",
       "      <td></td>\n",
       "      <td></td>\n",
       "      <td></td>\n",
       "      <td></td>\n",
       "      <td></td>\n",
       "      <td>24</td>\n",
       "      <td>Прочие Активы</td>\n",
       "    </tr>\n",
       "    <tr>\n",
       "      <th>3</th>\n",
       "      <td>BNV</td>\n",
       "      <td>0</td>\n",
       "      <td>Cr</td>\n",
       "      <td></td>\n",
       "      <td></td>\n",
       "      <td>Основная номенклатурная группа</td>\n",
       "      <td>Списание материалов</td>\n",
       "      <td></td>\n",
       "      <td>24</td>\n",
       "      <td>Прочие Активы</td>\n",
       "    </tr>\n",
       "    <tr>\n",
       "      <th>4</th>\n",
       "      <td>BNV</td>\n",
       "      <td>0</td>\n",
       "      <td>Cr</td>\n",
       "      <td></td>\n",
       "      <td></td>\n",
       "      <td></td>\n",
       "      <td>почтовые расходы</td>\n",
       "      <td></td>\n",
       "      <td>24</td>\n",
       "      <td>Прочие Активы</td>\n",
       "    </tr>\n",
       "  </tbody>\n",
       "</table>\n",
       "</div>"
      ],
      "text/plain": [
       "  CompanyKey ProfitLoss AccSide Виды деятельности Прочие доходы и расходы  \\\n",
       "0        BNV          0      Dt                                             \n",
       "1        BNV          0      Cr                                             \n",
       "2        BNV          0      Dt                                             \n",
       "3        BNV          0      Cr                                             \n",
       "4        BNV          0      Cr                                             \n",
       "\n",
       "            Номенклатурные группы        Статьи затрат Статьи ДДС TargetKey  \\\n",
       "0                                                                        24   \n",
       "1                                                                        24   \n",
       "2                                                                        24   \n",
       "3  Основная номенклатурная группа  Списание материалов                   24   \n",
       "4                                     почтовые расходы                   24   \n",
       "\n",
       "      TargetName  \n",
       "0  Прочие Активы  \n",
       "1  Прочие Активы  \n",
       "2  Прочие Активы  \n",
       "3  Прочие Активы  \n",
       "4  Прочие Активы  "
      ]
     },
     "execution_count": 49,
     "metadata": {},
     "output_type": "execute_result"
    }
   ],
   "source": [
    "str_data.head()"
   ]
  },
  {
   "cell_type": "markdown",
   "metadata": {},
   "source": [
    "# Now i will transform str data to number\n",
    "I wana convert all str data using one-hor-encoding, i will use tree models, may be this format data help make model better"
   ]
  },
  {
   "cell_type": "code",
   "execution_count": 50,
   "metadata": {},
   "outputs": [
    {
     "data": {
      "text/plain": [
       "MLK    2102\n",
       "VES    1172\n",
       "MSS    1024\n",
       "MPI     924\n",
       "BNV     301\n",
       "VIM     301\n",
       "VMT     178\n",
       "Name: CompanyKey, dtype: int64"
      ]
     },
     "execution_count": 50,
     "metadata": {},
     "output_type": "execute_result"
    }
   ],
   "source": [
    "start_data.CompanyKey.value_counts()"
   ]
  },
  {
   "cell_type": "code",
   "execution_count": 51,
   "metadata": {},
   "outputs": [],
   "source": [
    "start_data = pd.concat([start_data, pd.get_dummies(start_data.CompanyKey, prefix=\"Company_key\")], axis=1)"
   ]
  },
  {
   "cell_type": "code",
   "execution_count": 52,
   "metadata": {},
   "outputs": [],
   "source": [
    "start_data.drop('CompanyKey', axis=1, inplace=True)"
   ]
  },
  {
   "cell_type": "code",
   "execution_count": 53,
   "metadata": {},
   "outputs": [],
   "source": [
    "start_data.ProfitLoss =start_data.ProfitLoss.astype(int)"
   ]
  },
  {
   "cell_type": "code",
   "execution_count": 54,
   "metadata": {},
   "outputs": [],
   "source": [
    "AccSide_dict = {j:i for i, j in enumerate(start_data.AccSide.unique())}"
   ]
  },
  {
   "cell_type": "code",
   "execution_count": 55,
   "metadata": {},
   "outputs": [],
   "source": [
    "start_data.AccSide=start_data.AccSide.map(AccSide_dict)"
   ]
  },
  {
   "cell_type": "code",
   "execution_count": 56,
   "metadata": {},
   "outputs": [],
   "source": [
    "start_data.loc[start_data['Виды деятельности']=='' ,'Виды деятельности']='None'"
   ]
  },
  {
   "cell_type": "code",
   "execution_count": 63,
   "metadata": {},
   "outputs": [],
   "source": [
    "agr_col = ['Виды деятельности','Прочие доходы и расходы','Номенклатурные группы','Статьи затрат','Статьи ДДС']"
   ]
  },
  {
   "cell_type": "code",
   "execution_count": 64,
   "metadata": {},
   "outputs": [],
   "source": [
    "for col in agr_col:\n",
    "    start_data.loc[start_data[col]=='', col]='None'"
   ]
  },
  {
   "cell_type": "code",
   "execution_count": 65,
   "metadata": {},
   "outputs": [
    {
     "data": {
      "text/html": [
       "<div>\n",
       "<style scoped>\n",
       "    .dataframe tbody tr th:only-of-type {\n",
       "        vertical-align: middle;\n",
       "    }\n",
       "\n",
       "    .dataframe tbody tr th {\n",
       "        vertical-align: top;\n",
       "    }\n",
       "\n",
       "    .dataframe thead th {\n",
       "        text-align: right;\n",
       "    }\n",
       "</style>\n",
       "<table border=\"1\" class=\"dataframe\">\n",
       "  <thead>\n",
       "    <tr style=\"text-align: right;\">\n",
       "      <th></th>\n",
       "      <th>ProfitLoss</th>\n",
       "      <th>AccountLocal</th>\n",
       "      <th>AccSide</th>\n",
       "      <th>AccountLocalCorr</th>\n",
       "      <th>Виды деятельности</th>\n",
       "      <th>Прочие доходы и расходы</th>\n",
       "      <th>Номенклатурные группы</th>\n",
       "      <th>Статьи затрат</th>\n",
       "      <th>Статьи ДДС</th>\n",
       "      <th>Amount</th>\n",
       "      <th>TargetKey</th>\n",
       "      <th>TargetName</th>\n",
       "      <th>Company_key_BNV</th>\n",
       "      <th>Company_key_MLK</th>\n",
       "      <th>Company_key_MPI</th>\n",
       "      <th>Company_key_MSS</th>\n",
       "      <th>Company_key_VES</th>\n",
       "      <th>Company_key_VIM</th>\n",
       "      <th>Company_key_VMT</th>\n",
       "    </tr>\n",
       "  </thead>\n",
       "  <tbody>\n",
       "    <tr>\n",
       "      <th>0</th>\n",
       "      <td>0</td>\n",
       "      <td>1.0</td>\n",
       "      <td>0</td>\n",
       "      <td>8.0</td>\n",
       "      <td>None</td>\n",
       "      <td>None</td>\n",
       "      <td>None</td>\n",
       "      <td>None</td>\n",
       "      <td>None</td>\n",
       "      <td>395599.24</td>\n",
       "      <td>24</td>\n",
       "      <td>Прочие Активы</td>\n",
       "      <td>1</td>\n",
       "      <td>0</td>\n",
       "      <td>0</td>\n",
       "      <td>0</td>\n",
       "      <td>0</td>\n",
       "      <td>0</td>\n",
       "      <td>0</td>\n",
       "    </tr>\n",
       "    <tr>\n",
       "      <th>1</th>\n",
       "      <td>0</td>\n",
       "      <td>8.0</td>\n",
       "      <td>1</td>\n",
       "      <td>1.0</td>\n",
       "      <td>None</td>\n",
       "      <td>None</td>\n",
       "      <td>None</td>\n",
       "      <td>None</td>\n",
       "      <td>None</td>\n",
       "      <td>-395599.24</td>\n",
       "      <td>24</td>\n",
       "      <td>Прочие Активы</td>\n",
       "      <td>1</td>\n",
       "      <td>0</td>\n",
       "      <td>0</td>\n",
       "      <td>0</td>\n",
       "      <td>0</td>\n",
       "      <td>0</td>\n",
       "      <td>0</td>\n",
       "    </tr>\n",
       "    <tr>\n",
       "      <th>2</th>\n",
       "      <td>0</td>\n",
       "      <td>8.0</td>\n",
       "      <td>0</td>\n",
       "      <td>60.0</td>\n",
       "      <td>None</td>\n",
       "      <td>None</td>\n",
       "      <td>None</td>\n",
       "      <td>None</td>\n",
       "      <td>None</td>\n",
       "      <td>395599.24</td>\n",
       "      <td>24</td>\n",
       "      <td>Прочие Активы</td>\n",
       "      <td>1</td>\n",
       "      <td>0</td>\n",
       "      <td>0</td>\n",
       "      <td>0</td>\n",
       "      <td>0</td>\n",
       "      <td>0</td>\n",
       "      <td>0</td>\n",
       "    </tr>\n",
       "    <tr>\n",
       "      <th>3</th>\n",
       "      <td>0</td>\n",
       "      <td>10.0</td>\n",
       "      <td>1</td>\n",
       "      <td>20.0</td>\n",
       "      <td>None</td>\n",
       "      <td>None</td>\n",
       "      <td>Основная номенклатурная группа</td>\n",
       "      <td>Списание материалов</td>\n",
       "      <td>None</td>\n",
       "      <td>-12868.81</td>\n",
       "      <td>24</td>\n",
       "      <td>Прочие Активы</td>\n",
       "      <td>1</td>\n",
       "      <td>0</td>\n",
       "      <td>0</td>\n",
       "      <td>0</td>\n",
       "      <td>0</td>\n",
       "      <td>0</td>\n",
       "      <td>0</td>\n",
       "    </tr>\n",
       "    <tr>\n",
       "      <th>4</th>\n",
       "      <td>0</td>\n",
       "      <td>10.0</td>\n",
       "      <td>1</td>\n",
       "      <td>26.0</td>\n",
       "      <td>None</td>\n",
       "      <td>None</td>\n",
       "      <td>None</td>\n",
       "      <td>почтовые расходы</td>\n",
       "      <td>None</td>\n",
       "      <td>-81507.85</td>\n",
       "      <td>24</td>\n",
       "      <td>Прочие Активы</td>\n",
       "      <td>1</td>\n",
       "      <td>0</td>\n",
       "      <td>0</td>\n",
       "      <td>0</td>\n",
       "      <td>0</td>\n",
       "      <td>0</td>\n",
       "      <td>0</td>\n",
       "    </tr>\n",
       "  </tbody>\n",
       "</table>\n",
       "</div>"
      ],
      "text/plain": [
       "   ProfitLoss  AccountLocal  AccSide  AccountLocalCorr Виды деятельности  \\\n",
       "0           0           1.0        0               8.0              None   \n",
       "1           0           8.0        1               1.0              None   \n",
       "2           0           8.0        0              60.0              None   \n",
       "3           0          10.0        1              20.0              None   \n",
       "4           0          10.0        1              26.0              None   \n",
       "\n",
       "  Прочие доходы и расходы           Номенклатурные группы  \\\n",
       "0                    None                            None   \n",
       "1                    None                            None   \n",
       "2                    None                            None   \n",
       "3                    None  Основная номенклатурная группа   \n",
       "4                    None                            None   \n",
       "\n",
       "         Статьи затрат Статьи ДДС     Amount TargetKey     TargetName  \\\n",
       "0                 None       None  395599.24        24  Прочие Активы   \n",
       "1                 None       None -395599.24        24  Прочие Активы   \n",
       "2                 None       None  395599.24        24  Прочие Активы   \n",
       "3  Списание материалов       None  -12868.81        24  Прочие Активы   \n",
       "4     почтовые расходы       None  -81507.85        24  Прочие Активы   \n",
       "\n",
       "   Company_key_BNV  Company_key_MLK  Company_key_MPI  Company_key_MSS  \\\n",
       "0                1                0                0                0   \n",
       "1                1                0                0                0   \n",
       "2                1                0                0                0   \n",
       "3                1                0                0                0   \n",
       "4                1                0                0                0   \n",
       "\n",
       "   Company_key_VES  Company_key_VIM  Company_key_VMT  \n",
       "0                0                0                0  \n",
       "1                0                0                0  \n",
       "2                0                0                0  \n",
       "3                0                0                0  \n",
       "4                0                0                0  "
      ]
     },
     "execution_count": 65,
     "metadata": {},
     "output_type": "execute_result"
    }
   ],
   "source": [
    "start_data.head()"
   ]
  },
  {
   "cell_type": "code",
   "execution_count": 148,
   "metadata": {},
   "outputs": [],
   "source": [
    "start_data['text_col']= \"\"\n",
    "for col in agr_col:\n",
    "    start_data['text_col'] += start_data[col].map(lambda x: \" \"+x if x!=\"none\" else \"\")"
   ]
  },
  {
   "cell_type": "code",
   "execution_count": 149,
   "metadata": {},
   "outputs": [],
   "source": [
    "# Finction for drop marks and stop words in the text data\n",
    "marks = '''!()-[]/{/};?@#$%:'\"\\,./^&amp;*_'''\n",
    "stop_words = ['в','по', 'за','и','из','на','не','с','при', 'для','или',  'у', 'з', 'их',  'без', 'к','й', 'ii', 'vi',  'і','cr', '0']\n",
    "def drop_marks_words(text):\n",
    "    res_text = []\n",
    "    text = text.lower()\n",
    "    words = text.split()\n",
    "    for word in words:\n",
    "        for char in word:\n",
    "            if char in marks:\n",
    "                word = word.replace(char, \"\")\n",
    "        res_text.append(word)\n",
    "    for stop in stop_words:\n",
    "        if stop in res_text:\n",
    "            res_text.remove(stop)\n",
    "    return \" \".join(res_text)"
   ]
  },
  {
   "cell_type": "code",
   "execution_count": 150,
   "metadata": {},
   "outputs": [],
   "source": [
    "start_data.loc[start_data.text_col ==\"\", 'text_col'] = 'none'"
   ]
  },
  {
   "cell_type": "code",
   "execution_count": 151,
   "metadata": {},
   "outputs": [],
   "source": [
    "start_data.text_col=  start_data.text_col.map(drop_marks_words)"
   ]
  },
  {
   "cell_type": "code",
   "execution_count": 152,
   "metadata": {},
   "outputs": [
    {
     "data": {
      "text/html": [
       "<div>\n",
       "<style scoped>\n",
       "    .dataframe tbody tr th:only-of-type {\n",
       "        vertical-align: middle;\n",
       "    }\n",
       "\n",
       "    .dataframe tbody tr th {\n",
       "        vertical-align: top;\n",
       "    }\n",
       "\n",
       "    .dataframe thead th {\n",
       "        text-align: right;\n",
       "    }\n",
       "</style>\n",
       "<table border=\"1\" class=\"dataframe\">\n",
       "  <thead>\n",
       "    <tr style=\"text-align: right;\">\n",
       "      <th></th>\n",
       "      <th>ProfitLoss</th>\n",
       "      <th>AccountLocal</th>\n",
       "      <th>AccSide</th>\n",
       "      <th>AccountLocalCorr</th>\n",
       "      <th>Виды деятельности</th>\n",
       "      <th>Прочие доходы и расходы</th>\n",
       "      <th>Номенклатурные группы</th>\n",
       "      <th>Статьи затрат</th>\n",
       "      <th>Статьи ДДС</th>\n",
       "      <th>Amount</th>\n",
       "      <th>TargetKey</th>\n",
       "      <th>TargetName</th>\n",
       "      <th>Company_key_BNV</th>\n",
       "      <th>Company_key_MLK</th>\n",
       "      <th>Company_key_MPI</th>\n",
       "      <th>Company_key_MSS</th>\n",
       "      <th>Company_key_VES</th>\n",
       "      <th>Company_key_VIM</th>\n",
       "      <th>Company_key_VMT</th>\n",
       "      <th>text_col</th>\n",
       "    </tr>\n",
       "  </thead>\n",
       "  <tbody>\n",
       "    <tr>\n",
       "      <th>0</th>\n",
       "      <td>0</td>\n",
       "      <td>1.0</td>\n",
       "      <td>0</td>\n",
       "      <td>8.0</td>\n",
       "      <td>None</td>\n",
       "      <td>None</td>\n",
       "      <td>None</td>\n",
       "      <td>None</td>\n",
       "      <td>None</td>\n",
       "      <td>395599.24</td>\n",
       "      <td>24</td>\n",
       "      <td>Прочие Активы</td>\n",
       "      <td>1</td>\n",
       "      <td>0</td>\n",
       "      <td>0</td>\n",
       "      <td>0</td>\n",
       "      <td>0</td>\n",
       "      <td>0</td>\n",
       "      <td>0</td>\n",
       "      <td>none none none none none</td>\n",
       "    </tr>\n",
       "    <tr>\n",
       "      <th>1</th>\n",
       "      <td>0</td>\n",
       "      <td>8.0</td>\n",
       "      <td>1</td>\n",
       "      <td>1.0</td>\n",
       "      <td>None</td>\n",
       "      <td>None</td>\n",
       "      <td>None</td>\n",
       "      <td>None</td>\n",
       "      <td>None</td>\n",
       "      <td>-395599.24</td>\n",
       "      <td>24</td>\n",
       "      <td>Прочие Активы</td>\n",
       "      <td>1</td>\n",
       "      <td>0</td>\n",
       "      <td>0</td>\n",
       "      <td>0</td>\n",
       "      <td>0</td>\n",
       "      <td>0</td>\n",
       "      <td>0</td>\n",
       "      <td>none none none none none</td>\n",
       "    </tr>\n",
       "    <tr>\n",
       "      <th>2</th>\n",
       "      <td>0</td>\n",
       "      <td>8.0</td>\n",
       "      <td>0</td>\n",
       "      <td>60.0</td>\n",
       "      <td>None</td>\n",
       "      <td>None</td>\n",
       "      <td>None</td>\n",
       "      <td>None</td>\n",
       "      <td>None</td>\n",
       "      <td>395599.24</td>\n",
       "      <td>24</td>\n",
       "      <td>Прочие Активы</td>\n",
       "      <td>1</td>\n",
       "      <td>0</td>\n",
       "      <td>0</td>\n",
       "      <td>0</td>\n",
       "      <td>0</td>\n",
       "      <td>0</td>\n",
       "      <td>0</td>\n",
       "      <td>none none none none none</td>\n",
       "    </tr>\n",
       "    <tr>\n",
       "      <th>3</th>\n",
       "      <td>0</td>\n",
       "      <td>10.0</td>\n",
       "      <td>1</td>\n",
       "      <td>20.0</td>\n",
       "      <td>None</td>\n",
       "      <td>None</td>\n",
       "      <td>Основная номенклатурная группа</td>\n",
       "      <td>Списание материалов</td>\n",
       "      <td>None</td>\n",
       "      <td>-12868.81</td>\n",
       "      <td>24</td>\n",
       "      <td>Прочие Активы</td>\n",
       "      <td>1</td>\n",
       "      <td>0</td>\n",
       "      <td>0</td>\n",
       "      <td>0</td>\n",
       "      <td>0</td>\n",
       "      <td>0</td>\n",
       "      <td>0</td>\n",
       "      <td>none none основная номенклатурная группа списа...</td>\n",
       "    </tr>\n",
       "    <tr>\n",
       "      <th>4</th>\n",
       "      <td>0</td>\n",
       "      <td>10.0</td>\n",
       "      <td>1</td>\n",
       "      <td>26.0</td>\n",
       "      <td>None</td>\n",
       "      <td>None</td>\n",
       "      <td>None</td>\n",
       "      <td>почтовые расходы</td>\n",
       "      <td>None</td>\n",
       "      <td>-81507.85</td>\n",
       "      <td>24</td>\n",
       "      <td>Прочие Активы</td>\n",
       "      <td>1</td>\n",
       "      <td>0</td>\n",
       "      <td>0</td>\n",
       "      <td>0</td>\n",
       "      <td>0</td>\n",
       "      <td>0</td>\n",
       "      <td>0</td>\n",
       "      <td>none none none почтовые расходы none</td>\n",
       "    </tr>\n",
       "    <tr>\n",
       "      <th>...</th>\n",
       "      <td>...</td>\n",
       "      <td>...</td>\n",
       "      <td>...</td>\n",
       "      <td>...</td>\n",
       "      <td>...</td>\n",
       "      <td>...</td>\n",
       "      <td>...</td>\n",
       "      <td>...</td>\n",
       "      <td>...</td>\n",
       "      <td>...</td>\n",
       "      <td>...</td>\n",
       "      <td>...</td>\n",
       "      <td>...</td>\n",
       "      <td>...</td>\n",
       "      <td>...</td>\n",
       "      <td>...</td>\n",
       "      <td>...</td>\n",
       "      <td>...</td>\n",
       "      <td>...</td>\n",
       "      <td>...</td>\n",
       "    </tr>\n",
       "    <tr>\n",
       "      <th>5997</th>\n",
       "      <td>0</td>\n",
       "      <td>91.0</td>\n",
       "      <td>0</td>\n",
       "      <td>99.0</td>\n",
       "      <td>None</td>\n",
       "      <td>Проценты по займу</td>\n",
       "      <td>None</td>\n",
       "      <td>None</td>\n",
       "      <td>None</td>\n",
       "      <td>1853.61</td>\n",
       "      <td>nan</td>\n",
       "      <td>None</td>\n",
       "      <td>0</td>\n",
       "      <td>1</td>\n",
       "      <td>0</td>\n",
       "      <td>0</td>\n",
       "      <td>0</td>\n",
       "      <td>0</td>\n",
       "      <td>0</td>\n",
       "      <td>none проценты займу none none none</td>\n",
       "    </tr>\n",
       "    <tr>\n",
       "      <th>5998</th>\n",
       "      <td>0</td>\n",
       "      <td>91.0</td>\n",
       "      <td>0</td>\n",
       "      <td>99.0</td>\n",
       "      <td>None</td>\n",
       "      <td>Суммовые разницы</td>\n",
       "      <td>None</td>\n",
       "      <td>None</td>\n",
       "      <td>None</td>\n",
       "      <td>5125.71</td>\n",
       "      <td>nan</td>\n",
       "      <td>None</td>\n",
       "      <td>0</td>\n",
       "      <td>1</td>\n",
       "      <td>0</td>\n",
       "      <td>0</td>\n",
       "      <td>0</td>\n",
       "      <td>0</td>\n",
       "      <td>0</td>\n",
       "      <td>none суммовые разницы none none none</td>\n",
       "    </tr>\n",
       "    <tr>\n",
       "      <th>5999</th>\n",
       "      <td>1</td>\n",
       "      <td>732.0</td>\n",
       "      <td>1</td>\n",
       "      <td>311.0</td>\n",
       "      <td>None</td>\n",
       "      <td>None</td>\n",
       "      <td>None</td>\n",
       "      <td>None</td>\n",
       "      <td>Інші надходження коштів</td>\n",
       "      <td>-1822.43</td>\n",
       "      <td>nan</td>\n",
       "      <td>None</td>\n",
       "      <td>0</td>\n",
       "      <td>0</td>\n",
       "      <td>0</td>\n",
       "      <td>0</td>\n",
       "      <td>0</td>\n",
       "      <td>1</td>\n",
       "      <td>0</td>\n",
       "      <td>none none none none інші надходження коштів</td>\n",
       "    </tr>\n",
       "    <tr>\n",
       "      <th>6000</th>\n",
       "      <td>0</td>\n",
       "      <td>91.0</td>\n",
       "      <td>0</td>\n",
       "      <td>99.0</td>\n",
       "      <td>None</td>\n",
       "      <td>Реализация долгосрочного актива, предназначенн...</td>\n",
       "      <td>None</td>\n",
       "      <td>None</td>\n",
       "      <td>None</td>\n",
       "      <td>13.33</td>\n",
       "      <td>nan</td>\n",
       "      <td>None</td>\n",
       "      <td>0</td>\n",
       "      <td>1</td>\n",
       "      <td>0</td>\n",
       "      <td>0</td>\n",
       "      <td>0</td>\n",
       "      <td>0</td>\n",
       "      <td>0</td>\n",
       "      <td>none реализация долгосрочного актива предназна...</td>\n",
       "    </tr>\n",
       "    <tr>\n",
       "      <th>6001</th>\n",
       "      <td>1</td>\n",
       "      <td>732.0</td>\n",
       "      <td>1</td>\n",
       "      <td>311.0</td>\n",
       "      <td>Дохід операційної діяльності (від реалізації т...</td>\n",
       "      <td>None</td>\n",
       "      <td>None</td>\n",
       "      <td>None</td>\n",
       "      <td>Інші надходження коштів</td>\n",
       "      <td>-37927.14</td>\n",
       "      <td>nan</td>\n",
       "      <td>None</td>\n",
       "      <td>0</td>\n",
       "      <td>0</td>\n",
       "      <td>0</td>\n",
       "      <td>0</td>\n",
       "      <td>0</td>\n",
       "      <td>1</td>\n",
       "      <td>0</td>\n",
       "      <td>дохід операційної діяльності від реалізації то...</td>\n",
       "    </tr>\n",
       "  </tbody>\n",
       "</table>\n",
       "<p>6002 rows × 20 columns</p>\n",
       "</div>"
      ],
      "text/plain": [
       "      ProfitLoss  AccountLocal  AccSide  AccountLocalCorr  \\\n",
       "0              0           1.0        0               8.0   \n",
       "1              0           8.0        1               1.0   \n",
       "2              0           8.0        0              60.0   \n",
       "3              0          10.0        1              20.0   \n",
       "4              0          10.0        1              26.0   \n",
       "...          ...           ...      ...               ...   \n",
       "5997           0          91.0        0              99.0   \n",
       "5998           0          91.0        0              99.0   \n",
       "5999           1         732.0        1             311.0   \n",
       "6000           0          91.0        0              99.0   \n",
       "6001           1         732.0        1             311.0   \n",
       "\n",
       "                                      Виды деятельности  \\\n",
       "0                                                  None   \n",
       "1                                                  None   \n",
       "2                                                  None   \n",
       "3                                                  None   \n",
       "4                                                  None   \n",
       "...                                                 ...   \n",
       "5997                                               None   \n",
       "5998                                               None   \n",
       "5999                                               None   \n",
       "6000                                               None   \n",
       "6001  Дохід операційної діяльності (від реалізації т...   \n",
       "\n",
       "                                Прочие доходы и расходы  \\\n",
       "0                                                  None   \n",
       "1                                                  None   \n",
       "2                                                  None   \n",
       "3                                                  None   \n",
       "4                                                  None   \n",
       "...                                                 ...   \n",
       "5997                                  Проценты по займу   \n",
       "5998                                   Суммовые разницы   \n",
       "5999                                               None   \n",
       "6000  Реализация долгосрочного актива, предназначенн...   \n",
       "6001                                               None   \n",
       "\n",
       "               Номенклатурные группы        Статьи затрат  \\\n",
       "0                               None                 None   \n",
       "1                               None                 None   \n",
       "2                               None                 None   \n",
       "3     Основная номенклатурная группа  Списание материалов   \n",
       "4                               None     почтовые расходы   \n",
       "...                              ...                  ...   \n",
       "5997                            None                 None   \n",
       "5998                            None                 None   \n",
       "5999                            None                 None   \n",
       "6000                            None                 None   \n",
       "6001                            None                 None   \n",
       "\n",
       "                   Статьи ДДС     Amount TargetKey     TargetName  \\\n",
       "0                        None  395599.24        24  Прочие Активы   \n",
       "1                        None -395599.24        24  Прочие Активы   \n",
       "2                        None  395599.24        24  Прочие Активы   \n",
       "3                        None  -12868.81        24  Прочие Активы   \n",
       "4                        None  -81507.85        24  Прочие Активы   \n",
       "...                       ...        ...       ...            ...   \n",
       "5997                     None    1853.61       nan           None   \n",
       "5998                     None    5125.71       nan           None   \n",
       "5999  Інші надходження коштів   -1822.43       nan           None   \n",
       "6000                     None      13.33       nan           None   \n",
       "6001  Інші надходження коштів  -37927.14       nan           None   \n",
       "\n",
       "      Company_key_BNV  Company_key_MLK  Company_key_MPI  Company_key_MSS  \\\n",
       "0                   1                0                0                0   \n",
       "1                   1                0                0                0   \n",
       "2                   1                0                0                0   \n",
       "3                   1                0                0                0   \n",
       "4                   1                0                0                0   \n",
       "...               ...              ...              ...              ...   \n",
       "5997                0                1                0                0   \n",
       "5998                0                1                0                0   \n",
       "5999                0                0                0                0   \n",
       "6000                0                1                0                0   \n",
       "6001                0                0                0                0   \n",
       "\n",
       "      Company_key_VES  Company_key_VIM  Company_key_VMT  \\\n",
       "0                   0                0                0   \n",
       "1                   0                0                0   \n",
       "2                   0                0                0   \n",
       "3                   0                0                0   \n",
       "4                   0                0                0   \n",
       "...               ...              ...              ...   \n",
       "5997                0                0                0   \n",
       "5998                0                0                0   \n",
       "5999                0                1                0   \n",
       "6000                0                0                0   \n",
       "6001                0                1                0   \n",
       "\n",
       "                                               text_col  \n",
       "0                              none none none none none  \n",
       "1                              none none none none none  \n",
       "2                              none none none none none  \n",
       "3     none none основная номенклатурная группа списа...  \n",
       "4                  none none none почтовые расходы none  \n",
       "...                                                 ...  \n",
       "5997                 none проценты займу none none none  \n",
       "5998               none суммовые разницы none none none  \n",
       "5999        none none none none інші надходження коштів  \n",
       "6000  none реализация долгосрочного актива предназна...  \n",
       "6001  дохід операційної діяльності від реалізації то...  \n",
       "\n",
       "[6002 rows x 20 columns]"
      ]
     },
     "execution_count": 152,
     "metadata": {},
     "output_type": "execute_result"
    }
   ],
   "source": [
    "start_data"
   ]
  },
  {
   "cell_type": "code",
   "execution_count": 153,
   "metadata": {},
   "outputs": [],
   "source": [
    "best_data = start_data.copy()"
   ]
  },
  {
   "cell_type": "code",
   "execution_count": 154,
   "metadata": {},
   "outputs": [],
   "source": [
    "best_data.drop(agr_col, axis=1, inplace=True)"
   ]
  },
  {
   "cell_type": "markdown",
   "metadata": {},
   "source": [
    "For transorm text data i used CountVectorizer"
   ]
  },
  {
   "cell_type": "code",
   "execution_count": 155,
   "metadata": {},
   "outputs": [],
   "source": [
    "from sklearn.feature_extraction.text import CountVectorizer"
   ]
  },
  {
   "cell_type": "code",
   "execution_count": 156,
   "metadata": {},
   "outputs": [],
   "source": [
    "count_vect = CountVectorizer()"
   ]
  },
  {
   "cell_type": "code",
   "execution_count": 157,
   "metadata": {},
   "outputs": [
    {
     "data": {
      "text/plain": [
       "CountVectorizer()"
      ]
     },
     "execution_count": 157,
     "metadata": {},
     "output_type": "execute_result"
    }
   ],
   "source": [
    "count_vect.fit(best_data.text_col)"
   ]
  },
  {
   "cell_type": "code",
   "execution_count": 158,
   "metadata": {},
   "outputs": [],
   "source": [
    "res_col = count_vect.transform(best_data.text_col)"
   ]
  },
  {
   "cell_type": "code",
   "execution_count": 159,
   "metadata": {},
   "outputs": [
    {
     "name": "stderr",
     "output_type": "stream",
     "text": [
      "/home/uladzimir/anaconda3/envs/biv_arr/lib/python3.9/site-packages/sklearn/utils/deprecation.py:87: FutureWarning: Function get_feature_names is deprecated; get_feature_names is deprecated in 1.0 and will be removed in 1.2. Please use get_feature_names_out instead.\n",
      "  warnings.warn(msg, category=FutureWarning)\n"
     ]
    }
   ],
   "source": [
    "values =  res_col.toarray()\n",
    "columns = count_vect.get_feature_names()"
   ]
  },
  {
   "cell_type": "code",
   "execution_count": 160,
   "metadata": {},
   "outputs": [],
   "source": [
    "df_dict = {val: values[:, num] for num, val in enumerate(columns)}"
   ]
  },
  {
   "cell_type": "code",
   "execution_count": 161,
   "metadata": {},
   "outputs": [],
   "source": [
    "prom_df = pd.DataFrame(df_dict)"
   ]
  },
  {
   "cell_type": "code",
   "execution_count": 162,
   "metadata": {},
   "outputs": [],
   "source": [
    "finish_df = pd.concat([best_data, prom_df], axis=1)"
   ]
  },
  {
   "cell_type": "code",
   "execution_count": 163,
   "metadata": {},
   "outputs": [],
   "source": [
    "finish_df.drop(['text_col', 'TargetName'], axis=1, inplace=True)"
   ]
  },
  {
   "cell_type": "code",
   "execution_count": 164,
   "metadata": {},
   "outputs": [],
   "source": [
    "train_data = finish_df.loc[finish_df.TargetKey!=None, :]"
   ]
  },
  {
   "cell_type": "code",
   "execution_count": 165,
   "metadata": {},
   "outputs": [],
   "source": [
    " train_data.TargetKey= train_data.TargetKey.astype(str)"
   ]
  },
  {
   "cell_type": "code",
   "execution_count": 166,
   "metadata": {},
   "outputs": [],
   "source": [
    "train_data = train_data.loc[train_data.TargetKey!='nan',:]"
   ]
  },
  {
   "cell_type": "code",
   "execution_count": 167,
   "metadata": {},
   "outputs": [],
   "source": [
    "train_data.TargetKey= train_data.TargetKey.astype(int)"
   ]
  },
  {
   "cell_type": "code",
   "execution_count": 168,
   "metadata": {},
   "outputs": [],
   "source": [
    "X = train_data.drop('TargetKey', axis=1)\n",
    "y = train_data.TargetKey"
   ]
  },
  {
   "cell_type": "code",
   "execution_count": 169,
   "metadata": {},
   "outputs": [],
   "source": [
    "from sklearn.tree import DecisionTreeClassifier,ExtraTreeClassifier, plot_tree\n",
    "from sklearn.model_selection import train_test_split, learning_curve\n",
    "from sklearn.metrics import accuracy_score\n",
    "import matplotlib.pyplot as plt"
   ]
  },
  {
   "cell_type": "markdown",
   "metadata": {},
   "source": [
    "For train model i sellected records"
   ]
  },
  {
   "cell_type": "code",
   "execution_count": 224,
   "metadata": {},
   "outputs": [],
   "source": [
    "target_ser =train_data.TargetKey.value_counts()"
   ]
  },
  {
   "cell_type": "code",
   "execution_count": 225,
   "metadata": {},
   "outputs": [],
   "source": [
    "df_target = pd.DataFrame(target_ser)"
   ]
  },
  {
   "cell_type": "code",
   "execution_count": 226,
   "metadata": {},
   "outputs": [],
   "source": [
    "nes_target = df_target[df_target.TargetKey>5].index.values"
   ]
  },
  {
   "cell_type": "code",
   "execution_count": 227,
   "metadata": {},
   "outputs": [],
   "source": [
    "train_data  =train_data.loc[train_data.TargetKey.isin( nes_target),:]"
   ]
  },
  {
   "cell_type": "code",
   "execution_count": 228,
   "metadata": {},
   "outputs": [
    {
     "data": {
      "text/html": [
       "<div>\n",
       "<style scoped>\n",
       "    .dataframe tbody tr th:only-of-type {\n",
       "        vertical-align: middle;\n",
       "    }\n",
       "\n",
       "    .dataframe tbody tr th {\n",
       "        vertical-align: top;\n",
       "    }\n",
       "\n",
       "    .dataframe thead th {\n",
       "        text-align: right;\n",
       "    }\n",
       "</style>\n",
       "<table border=\"1\" class=\"dataframe\">\n",
       "  <thead>\n",
       "    <tr style=\"text-align: right;\">\n",
       "      <th></th>\n",
       "      <th>ProfitLoss</th>\n",
       "      <th>AccountLocal</th>\n",
       "      <th>AccSide</th>\n",
       "      <th>AccountLocalCorr</th>\n",
       "      <th>Amount</th>\n",
       "      <th>TargetKey</th>\n",
       "      <th>Company_key_BNV</th>\n",
       "      <th>Company_key_MLK</th>\n",
       "      <th>Company_key_MPI</th>\n",
       "      <th>Company_key_MSS</th>\n",
       "      <th>...</th>\n",
       "      <th>юр</th>\n",
       "      <th>юридическая</th>\n",
       "      <th>юридические</th>\n",
       "      <th>юридическим</th>\n",
       "      <th>юридического</th>\n",
       "      <th>юрлица</th>\n",
       "      <th>ємне</th>\n",
       "      <th>інформаційні</th>\n",
       "      <th>інших</th>\n",
       "      <th>інші</th>\n",
       "    </tr>\n",
       "  </thead>\n",
       "  <tbody>\n",
       "    <tr>\n",
       "      <th>0</th>\n",
       "      <td>0</td>\n",
       "      <td>1.0</td>\n",
       "      <td>0</td>\n",
       "      <td>8.0</td>\n",
       "      <td>395599.24</td>\n",
       "      <td>24</td>\n",
       "      <td>1</td>\n",
       "      <td>0</td>\n",
       "      <td>0</td>\n",
       "      <td>0</td>\n",
       "      <td>...</td>\n",
       "      <td>0</td>\n",
       "      <td>0</td>\n",
       "      <td>0</td>\n",
       "      <td>0</td>\n",
       "      <td>0</td>\n",
       "      <td>0</td>\n",
       "      <td>0</td>\n",
       "      <td>0</td>\n",
       "      <td>0</td>\n",
       "      <td>0</td>\n",
       "    </tr>\n",
       "    <tr>\n",
       "      <th>1</th>\n",
       "      <td>0</td>\n",
       "      <td>8.0</td>\n",
       "      <td>1</td>\n",
       "      <td>1.0</td>\n",
       "      <td>-395599.24</td>\n",
       "      <td>24</td>\n",
       "      <td>1</td>\n",
       "      <td>0</td>\n",
       "      <td>0</td>\n",
       "      <td>0</td>\n",
       "      <td>...</td>\n",
       "      <td>0</td>\n",
       "      <td>0</td>\n",
       "      <td>0</td>\n",
       "      <td>0</td>\n",
       "      <td>0</td>\n",
       "      <td>0</td>\n",
       "      <td>0</td>\n",
       "      <td>0</td>\n",
       "      <td>0</td>\n",
       "      <td>0</td>\n",
       "    </tr>\n",
       "    <tr>\n",
       "      <th>2</th>\n",
       "      <td>0</td>\n",
       "      <td>8.0</td>\n",
       "      <td>0</td>\n",
       "      <td>60.0</td>\n",
       "      <td>395599.24</td>\n",
       "      <td>24</td>\n",
       "      <td>1</td>\n",
       "      <td>0</td>\n",
       "      <td>0</td>\n",
       "      <td>0</td>\n",
       "      <td>...</td>\n",
       "      <td>0</td>\n",
       "      <td>0</td>\n",
       "      <td>0</td>\n",
       "      <td>0</td>\n",
       "      <td>0</td>\n",
       "      <td>0</td>\n",
       "      <td>0</td>\n",
       "      <td>0</td>\n",
       "      <td>0</td>\n",
       "      <td>0</td>\n",
       "    </tr>\n",
       "    <tr>\n",
       "      <th>3</th>\n",
       "      <td>0</td>\n",
       "      <td>10.0</td>\n",
       "      <td>1</td>\n",
       "      <td>20.0</td>\n",
       "      <td>-12868.81</td>\n",
       "      <td>24</td>\n",
       "      <td>1</td>\n",
       "      <td>0</td>\n",
       "      <td>0</td>\n",
       "      <td>0</td>\n",
       "      <td>...</td>\n",
       "      <td>0</td>\n",
       "      <td>0</td>\n",
       "      <td>0</td>\n",
       "      <td>0</td>\n",
       "      <td>0</td>\n",
       "      <td>0</td>\n",
       "      <td>0</td>\n",
       "      <td>0</td>\n",
       "      <td>0</td>\n",
       "      <td>0</td>\n",
       "    </tr>\n",
       "    <tr>\n",
       "      <th>4</th>\n",
       "      <td>0</td>\n",
       "      <td>10.0</td>\n",
       "      <td>1</td>\n",
       "      <td>26.0</td>\n",
       "      <td>-81507.85</td>\n",
       "      <td>24</td>\n",
       "      <td>1</td>\n",
       "      <td>0</td>\n",
       "      <td>0</td>\n",
       "      <td>0</td>\n",
       "      <td>...</td>\n",
       "      <td>0</td>\n",
       "      <td>0</td>\n",
       "      <td>0</td>\n",
       "      <td>0</td>\n",
       "      <td>0</td>\n",
       "      <td>0</td>\n",
       "      <td>0</td>\n",
       "      <td>0</td>\n",
       "      <td>0</td>\n",
       "      <td>0</td>\n",
       "    </tr>\n",
       "  </tbody>\n",
       "</table>\n",
       "<p>5 rows × 923 columns</p>\n",
       "</div>"
      ],
      "text/plain": [
       "   ProfitLoss  AccountLocal  AccSide  AccountLocalCorr     Amount  TargetKey  \\\n",
       "0           0           1.0        0               8.0  395599.24         24   \n",
       "1           0           8.0        1               1.0 -395599.24         24   \n",
       "2           0           8.0        0              60.0  395599.24         24   \n",
       "3           0          10.0        1              20.0  -12868.81         24   \n",
       "4           0          10.0        1              26.0  -81507.85         24   \n",
       "\n",
       "   Company_key_BNV  Company_key_MLK  Company_key_MPI  Company_key_MSS  ...  \\\n",
       "0                1                0                0                0  ...   \n",
       "1                1                0                0                0  ...   \n",
       "2                1                0                0                0  ...   \n",
       "3                1                0                0                0  ...   \n",
       "4                1                0                0                0  ...   \n",
       "\n",
       "   юр  юридическая  юридические  юридическим  юридического  юрлица  ємне  \\\n",
       "0   0            0            0            0             0       0     0   \n",
       "1   0            0            0            0             0       0     0   \n",
       "2   0            0            0            0             0       0     0   \n",
       "3   0            0            0            0             0       0     0   \n",
       "4   0            0            0            0             0       0     0   \n",
       "\n",
       "   інформаційні  інших  інші  \n",
       "0             0      0     0  \n",
       "1             0      0     0  \n",
       "2             0      0     0  \n",
       "3             0      0     0  \n",
       "4             0      0     0  \n",
       "\n",
       "[5 rows x 923 columns]"
      ]
     },
     "execution_count": 228,
     "metadata": {},
     "output_type": "execute_result"
    }
   ],
   "source": [
    "train_data.head()"
   ]
  },
  {
   "cell_type": "code",
   "execution_count": 229,
   "metadata": {},
   "outputs": [],
   "source": [
    "X = train_data.drop('TargetKey', axis=1)\n",
    "y = train_data.TargetKey\n",
    "\n",
    "X_train, X_test, y_train, y_test = train_test_split(X, y, test_size=0.3, stratify=y)"
   ]
  },
  {
   "cell_type": "markdown",
   "metadata": {},
   "source": [
    "In the last notebook i have testes other models, and the best is DecisionTreeClassifier()"
   ]
  },
  {
   "cell_type": "code",
   "execution_count": 230,
   "metadata": {},
   "outputs": [],
   "source": [
    "dec_tree = DecisionTreeClassifier()"
   ]
  },
  {
   "cell_type": "code",
   "execution_count": 231,
   "metadata": {},
   "outputs": [
    {
     "data": {
      "text/html": [
       "<div>\n",
       "<style scoped>\n",
       "    .dataframe tbody tr th:only-of-type {\n",
       "        vertical-align: middle;\n",
       "    }\n",
       "\n",
       "    .dataframe tbody tr th {\n",
       "        vertical-align: top;\n",
       "    }\n",
       "\n",
       "    .dataframe thead th {\n",
       "        text-align: right;\n",
       "    }\n",
       "</style>\n",
       "<table border=\"1\" class=\"dataframe\">\n",
       "  <thead>\n",
       "    <tr style=\"text-align: right;\">\n",
       "      <th></th>\n",
       "      <th>ProfitLoss</th>\n",
       "      <th>AccountLocal</th>\n",
       "      <th>AccSide</th>\n",
       "      <th>AccountLocalCorr</th>\n",
       "      <th>Amount</th>\n",
       "      <th>TargetKey</th>\n",
       "      <th>Company_key_BNV</th>\n",
       "      <th>Company_key_MLK</th>\n",
       "      <th>Company_key_MPI</th>\n",
       "      <th>Company_key_MSS</th>\n",
       "      <th>...</th>\n",
       "      <th>юр</th>\n",
       "      <th>юридическая</th>\n",
       "      <th>юридические</th>\n",
       "      <th>юридическим</th>\n",
       "      <th>юридического</th>\n",
       "      <th>юрлица</th>\n",
       "      <th>ємне</th>\n",
       "      <th>інформаційні</th>\n",
       "      <th>інших</th>\n",
       "      <th>інші</th>\n",
       "    </tr>\n",
       "  </thead>\n",
       "  <tbody>\n",
       "    <tr>\n",
       "      <th>0</th>\n",
       "      <td>0</td>\n",
       "      <td>1.0</td>\n",
       "      <td>0</td>\n",
       "      <td>8.0</td>\n",
       "      <td>395599.24</td>\n",
       "      <td>24</td>\n",
       "      <td>1</td>\n",
       "      <td>0</td>\n",
       "      <td>0</td>\n",
       "      <td>0</td>\n",
       "      <td>...</td>\n",
       "      <td>0</td>\n",
       "      <td>0</td>\n",
       "      <td>0</td>\n",
       "      <td>0</td>\n",
       "      <td>0</td>\n",
       "      <td>0</td>\n",
       "      <td>0</td>\n",
       "      <td>0</td>\n",
       "      <td>0</td>\n",
       "      <td>0</td>\n",
       "    </tr>\n",
       "    <tr>\n",
       "      <th>1</th>\n",
       "      <td>0</td>\n",
       "      <td>8.0</td>\n",
       "      <td>1</td>\n",
       "      <td>1.0</td>\n",
       "      <td>-395599.24</td>\n",
       "      <td>24</td>\n",
       "      <td>1</td>\n",
       "      <td>0</td>\n",
       "      <td>0</td>\n",
       "      <td>0</td>\n",
       "      <td>...</td>\n",
       "      <td>0</td>\n",
       "      <td>0</td>\n",
       "      <td>0</td>\n",
       "      <td>0</td>\n",
       "      <td>0</td>\n",
       "      <td>0</td>\n",
       "      <td>0</td>\n",
       "      <td>0</td>\n",
       "      <td>0</td>\n",
       "      <td>0</td>\n",
       "    </tr>\n",
       "    <tr>\n",
       "      <th>2</th>\n",
       "      <td>0</td>\n",
       "      <td>8.0</td>\n",
       "      <td>0</td>\n",
       "      <td>60.0</td>\n",
       "      <td>395599.24</td>\n",
       "      <td>24</td>\n",
       "      <td>1</td>\n",
       "      <td>0</td>\n",
       "      <td>0</td>\n",
       "      <td>0</td>\n",
       "      <td>...</td>\n",
       "      <td>0</td>\n",
       "      <td>0</td>\n",
       "      <td>0</td>\n",
       "      <td>0</td>\n",
       "      <td>0</td>\n",
       "      <td>0</td>\n",
       "      <td>0</td>\n",
       "      <td>0</td>\n",
       "      <td>0</td>\n",
       "      <td>0</td>\n",
       "    </tr>\n",
       "    <tr>\n",
       "      <th>3</th>\n",
       "      <td>0</td>\n",
       "      <td>10.0</td>\n",
       "      <td>1</td>\n",
       "      <td>20.0</td>\n",
       "      <td>-12868.81</td>\n",
       "      <td>24</td>\n",
       "      <td>1</td>\n",
       "      <td>0</td>\n",
       "      <td>0</td>\n",
       "      <td>0</td>\n",
       "      <td>...</td>\n",
       "      <td>0</td>\n",
       "      <td>0</td>\n",
       "      <td>0</td>\n",
       "      <td>0</td>\n",
       "      <td>0</td>\n",
       "      <td>0</td>\n",
       "      <td>0</td>\n",
       "      <td>0</td>\n",
       "      <td>0</td>\n",
       "      <td>0</td>\n",
       "    </tr>\n",
       "    <tr>\n",
       "      <th>4</th>\n",
       "      <td>0</td>\n",
       "      <td>10.0</td>\n",
       "      <td>1</td>\n",
       "      <td>26.0</td>\n",
       "      <td>-81507.85</td>\n",
       "      <td>24</td>\n",
       "      <td>1</td>\n",
       "      <td>0</td>\n",
       "      <td>0</td>\n",
       "      <td>0</td>\n",
       "      <td>...</td>\n",
       "      <td>0</td>\n",
       "      <td>0</td>\n",
       "      <td>0</td>\n",
       "      <td>0</td>\n",
       "      <td>0</td>\n",
       "      <td>0</td>\n",
       "      <td>0</td>\n",
       "      <td>0</td>\n",
       "      <td>0</td>\n",
       "      <td>0</td>\n",
       "    </tr>\n",
       "    <tr>\n",
       "      <th>...</th>\n",
       "      <td>...</td>\n",
       "      <td>...</td>\n",
       "      <td>...</td>\n",
       "      <td>...</td>\n",
       "      <td>...</td>\n",
       "      <td>...</td>\n",
       "      <td>...</td>\n",
       "      <td>...</td>\n",
       "      <td>...</td>\n",
       "      <td>...</td>\n",
       "      <td>...</td>\n",
       "      <td>...</td>\n",
       "      <td>...</td>\n",
       "      <td>...</td>\n",
       "      <td>...</td>\n",
       "      <td>...</td>\n",
       "      <td>...</td>\n",
       "      <td>...</td>\n",
       "      <td>...</td>\n",
       "      <td>...</td>\n",
       "      <td>...</td>\n",
       "    </tr>\n",
       "    <tr>\n",
       "      <th>3904</th>\n",
       "      <td>1</td>\n",
       "      <td>91.0</td>\n",
       "      <td>0</td>\n",
       "      <td>67.0</td>\n",
       "      <td>4746.66</td>\n",
       "      <td>92</td>\n",
       "      <td>0</td>\n",
       "      <td>1</td>\n",
       "      <td>0</td>\n",
       "      <td>0</td>\n",
       "      <td>...</td>\n",
       "      <td>0</td>\n",
       "      <td>0</td>\n",
       "      <td>0</td>\n",
       "      <td>0</td>\n",
       "      <td>0</td>\n",
       "      <td>0</td>\n",
       "      <td>0</td>\n",
       "      <td>0</td>\n",
       "      <td>0</td>\n",
       "      <td>0</td>\n",
       "    </tr>\n",
       "    <tr>\n",
       "      <th>3910</th>\n",
       "      <td>1</td>\n",
       "      <td>91.0</td>\n",
       "      <td>0</td>\n",
       "      <td>68.0</td>\n",
       "      <td>5.40</td>\n",
       "      <td>133</td>\n",
       "      <td>0</td>\n",
       "      <td>1</td>\n",
       "      <td>0</td>\n",
       "      <td>0</td>\n",
       "      <td>...</td>\n",
       "      <td>0</td>\n",
       "      <td>0</td>\n",
       "      <td>0</td>\n",
       "      <td>0</td>\n",
       "      <td>0</td>\n",
       "      <td>0</td>\n",
       "      <td>0</td>\n",
       "      <td>0</td>\n",
       "      <td>0</td>\n",
       "      <td>0</td>\n",
       "    </tr>\n",
       "    <tr>\n",
       "      <th>3911</th>\n",
       "      <td>1</td>\n",
       "      <td>91.0</td>\n",
       "      <td>0</td>\n",
       "      <td>68.0</td>\n",
       "      <td>41.60</td>\n",
       "      <td>133</td>\n",
       "      <td>0</td>\n",
       "      <td>1</td>\n",
       "      <td>0</td>\n",
       "      <td>0</td>\n",
       "      <td>...</td>\n",
       "      <td>0</td>\n",
       "      <td>0</td>\n",
       "      <td>0</td>\n",
       "      <td>0</td>\n",
       "      <td>0</td>\n",
       "      <td>0</td>\n",
       "      <td>0</td>\n",
       "      <td>0</td>\n",
       "      <td>0</td>\n",
       "      <td>0</td>\n",
       "    </tr>\n",
       "    <tr>\n",
       "      <th>3912</th>\n",
       "      <td>1</td>\n",
       "      <td>91.0</td>\n",
       "      <td>0</td>\n",
       "      <td>68.0</td>\n",
       "      <td>1666.67</td>\n",
       "      <td>133</td>\n",
       "      <td>0</td>\n",
       "      <td>1</td>\n",
       "      <td>0</td>\n",
       "      <td>0</td>\n",
       "      <td>...</td>\n",
       "      <td>0</td>\n",
       "      <td>0</td>\n",
       "      <td>0</td>\n",
       "      <td>0</td>\n",
       "      <td>0</td>\n",
       "      <td>0</td>\n",
       "      <td>0</td>\n",
       "      <td>0</td>\n",
       "      <td>0</td>\n",
       "      <td>0</td>\n",
       "    </tr>\n",
       "    <tr>\n",
       "      <th>3913</th>\n",
       "      <td>1</td>\n",
       "      <td>91.0</td>\n",
       "      <td>0</td>\n",
       "      <td>76.0</td>\n",
       "      <td>6353.85</td>\n",
       "      <td>169</td>\n",
       "      <td>0</td>\n",
       "      <td>1</td>\n",
       "      <td>0</td>\n",
       "      <td>0</td>\n",
       "      <td>...</td>\n",
       "      <td>0</td>\n",
       "      <td>0</td>\n",
       "      <td>0</td>\n",
       "      <td>0</td>\n",
       "      <td>0</td>\n",
       "      <td>0</td>\n",
       "      <td>0</td>\n",
       "      <td>0</td>\n",
       "      <td>0</td>\n",
       "      <td>0</td>\n",
       "    </tr>\n",
       "  </tbody>\n",
       "</table>\n",
       "<p>3437 rows × 923 columns</p>\n",
       "</div>"
      ],
      "text/plain": [
       "      ProfitLoss  AccountLocal  AccSide  AccountLocalCorr     Amount  \\\n",
       "0              0           1.0        0               8.0  395599.24   \n",
       "1              0           8.0        1               1.0 -395599.24   \n",
       "2              0           8.0        0              60.0  395599.24   \n",
       "3              0          10.0        1              20.0  -12868.81   \n",
       "4              0          10.0        1              26.0  -81507.85   \n",
       "...          ...           ...      ...               ...        ...   \n",
       "3904           1          91.0        0              67.0    4746.66   \n",
       "3910           1          91.0        0              68.0       5.40   \n",
       "3911           1          91.0        0              68.0      41.60   \n",
       "3912           1          91.0        0              68.0    1666.67   \n",
       "3913           1          91.0        0              76.0    6353.85   \n",
       "\n",
       "      TargetKey  Company_key_BNV  Company_key_MLK  Company_key_MPI  \\\n",
       "0            24                1                0                0   \n",
       "1            24                1                0                0   \n",
       "2            24                1                0                0   \n",
       "3            24                1                0                0   \n",
       "4            24                1                0                0   \n",
       "...         ...              ...              ...              ...   \n",
       "3904         92                0                1                0   \n",
       "3910        133                0                1                0   \n",
       "3911        133                0                1                0   \n",
       "3912        133                0                1                0   \n",
       "3913        169                0                1                0   \n",
       "\n",
       "      Company_key_MSS  ...  юр  юридическая  юридические  юридическим  \\\n",
       "0                   0  ...   0            0            0            0   \n",
       "1                   0  ...   0            0            0            0   \n",
       "2                   0  ...   0            0            0            0   \n",
       "3                   0  ...   0            0            0            0   \n",
       "4                   0  ...   0            0            0            0   \n",
       "...               ...  ...  ..          ...          ...          ...   \n",
       "3904                0  ...   0            0            0            0   \n",
       "3910                0  ...   0            0            0            0   \n",
       "3911                0  ...   0            0            0            0   \n",
       "3912                0  ...   0            0            0            0   \n",
       "3913                0  ...   0            0            0            0   \n",
       "\n",
       "      юридического  юрлица  ємне  інформаційні  інших  інші  \n",
       "0                0       0     0             0      0     0  \n",
       "1                0       0     0             0      0     0  \n",
       "2                0       0     0             0      0     0  \n",
       "3                0       0     0             0      0     0  \n",
       "4                0       0     0             0      0     0  \n",
       "...            ...     ...   ...           ...    ...   ...  \n",
       "3904             0       0     0             0      0     0  \n",
       "3910             0       0     0             0      0     0  \n",
       "3911             0       0     0             0      0     0  \n",
       "3912             0       0     0             0      0     0  \n",
       "3913             0       0     0             0      0     0  \n",
       "\n",
       "[3437 rows x 923 columns]"
      ]
     },
     "execution_count": 231,
     "metadata": {},
     "output_type": "execute_result"
    }
   ],
   "source": [
    "train_data"
   ]
  },
  {
   "cell_type": "code",
   "execution_count": 232,
   "metadata": {},
   "outputs": [
    {
     "data": {
      "text/plain": [
       "DecisionTreeClassifier()"
      ]
     },
     "execution_count": 232,
     "metadata": {},
     "output_type": "execute_result"
    }
   ],
   "source": [
    "dec_tree.fit(X_train, y_train)"
   ]
  },
  {
   "cell_type": "code",
   "execution_count": 233,
   "metadata": {},
   "outputs": [
    {
     "data": {
      "text/plain": [
       "0.9534883720930233"
      ]
     },
     "execution_count": 233,
     "metadata": {},
     "output_type": "execute_result"
    }
   ],
   "source": [
    "dec_tree.score(X_test, y_test)"
   ]
  },
  {
   "cell_type": "code",
   "execution_count": 234,
   "metadata": {},
   "outputs": [],
   "source": [
    "feature_imp =  dec_tree.feature_importances_ "
   ]
  },
  {
   "cell_type": "code",
   "execution_count": 235,
   "metadata": {},
   "outputs": [
    {
     "data": {
      "text/plain": [
       "922"
      ]
     },
     "execution_count": 235,
     "metadata": {},
     "output_type": "execute_result"
    }
   ],
   "source": [
    "len(feature_imp)"
   ]
  },
  {
   "cell_type": "code",
   "execution_count": 236,
   "metadata": {},
   "outputs": [],
   "source": [
    "drop_ind = [num for num, val in enumerate(feature_imp) if val<0.001]"
   ]
  },
  {
   "cell_type": "code",
   "execution_count": 237,
   "metadata": {},
   "outputs": [
    {
     "data": {
      "text/plain": [
       "877"
      ]
     },
     "execution_count": 237,
     "metadata": {},
     "output_type": "execute_result"
    }
   ],
   "source": [
    "len(drop_ind)"
   ]
  },
  {
   "cell_type": "code",
   "execution_count": 238,
   "metadata": {},
   "outputs": [],
   "source": [
    "drop_columns = [X_train.columns[i] for i in drop_ind]"
   ]
  },
  {
   "cell_type": "code",
   "execution_count": 239,
   "metadata": {},
   "outputs": [],
   "source": [
    "train_data_2 = train_data.copy()"
   ]
  },
  {
   "cell_type": "code",
   "execution_count": 240,
   "metadata": {},
   "outputs": [],
   "source": [
    "train_data_2.drop(drop_columns, axis=1, inplace=True)"
   ]
  },
  {
   "cell_type": "code",
   "execution_count": 241,
   "metadata": {},
   "outputs": [],
   "source": [
    "X = train_data_2.drop('TargetKey', axis=1)\n",
    "y = train_data_2.TargetKey\n",
    "\n",
    "X_train, X_test, y_train, y_test = train_test_split(X, y, test_size=0.3,random_state=30, stratify=y)"
   ]
  },
  {
   "cell_type": "code",
   "execution_count": 260,
   "metadata": {},
   "outputs": [
    {
     "data": {
      "text/plain": [
       "DecisionTreeClassifier()"
      ]
     },
     "execution_count": 260,
     "metadata": {},
     "output_type": "execute_result"
    }
   ],
   "source": [
    "dec_tree.fit(X_train, y_train)"
   ]
  },
  {
   "cell_type": "code",
   "execution_count": 261,
   "metadata": {},
   "outputs": [
    {
     "data": {
      "text/plain": [
       "0.9331395348837209"
      ]
     },
     "execution_count": 261,
     "metadata": {},
     "output_type": "execute_result"
    }
   ],
   "source": [
    "dec_tree.score(X_test, y_test)"
   ]
  },
  {
   "cell_type": "markdown",
   "metadata": {},
   "source": [
    "Now i tried tiune my model using RandomizedSearchCV, for finding best patamets"
   ]
  },
  {
   "cell_type": "code",
   "execution_count": 245,
   "metadata": {},
   "outputs": [],
   "source": [
    "from sklearn.model_selection import RandomizedSearchCV"
   ]
  },
  {
   "cell_type": "code",
   "execution_count": 268,
   "metadata": {},
   "outputs": [],
   "source": [
    "params = {\n",
    "    'max_depth': [60, 120, 240, 360],\n",
    "    'min_samples_leaf': [5, 10, 20, 50, 100, 150, 250],\n",
    "    'criterion': [\"gini\", \"entropy\"]\n",
    "}"
   ]
  },
  {
   "cell_type": "code",
   "execution_count": 269,
   "metadata": {},
   "outputs": [],
   "source": [
    "random_search = RandomizedSearchCV(estimator=DecisionTreeClassifier(), \n",
    "                          param_distributions=params, \n",
    "                           cv=4, n_jobs=-1, verbose=1, scoring = \"accuracy\")"
   ]
  },
  {
   "cell_type": "code",
   "execution_count": 270,
   "metadata": {},
   "outputs": [
    {
     "name": "stdout",
     "output_type": "stream",
     "text": [
      "Fitting 4 folds for each of 10 candidates, totalling 40 fits\n"
     ]
    },
    {
     "data": {
      "text/plain": [
       "RandomizedSearchCV(cv=4, estimator=DecisionTreeClassifier(), n_jobs=-1,\n",
       "                   param_distributions={'criterion': ['gini', 'entropy'],\n",
       "                                        'max_depth': [60, 120, 240, 360],\n",
       "                                        'min_samples_leaf': [5, 10, 20, 50, 100,\n",
       "                                                             150, 250]},\n",
       "                   scoring='accuracy', verbose=1)"
      ]
     },
     "execution_count": 270,
     "metadata": {},
     "output_type": "execute_result"
    }
   ],
   "source": [
    "random_search.fit(X_train, y_train)"
   ]
  },
  {
   "cell_type": "code",
   "execution_count": 271,
   "metadata": {},
   "outputs": [
    {
     "data": {
      "text/plain": [
       "{'min_samples_leaf': 5, 'max_depth': 120, 'criterion': 'gini'}"
      ]
     },
     "execution_count": 271,
     "metadata": {},
     "output_type": "execute_result"
    }
   ],
   "source": [
    "random_search.best_params_"
   ]
  },
  {
   "cell_type": "code",
   "execution_count": 272,
   "metadata": {},
   "outputs": [
    {
     "data": {
      "text/plain": [
       "0.9253875968992248"
      ]
     },
     "execution_count": 272,
     "metadata": {},
     "output_type": "execute_result"
    }
   ],
   "source": [
    "random_search.score(X_test, y_test)"
   ]
  },
  {
   "cell_type": "markdown",
   "metadata": {},
   "source": [
    "Now i wanna show the model score for each attribute"
   ]
  },
  {
   "cell_type": "code",
   "execution_count": 252,
   "metadata": {},
   "outputs": [],
   "source": [
    "unic_y= y_test.unique()\n",
    "df_y_test = pd.DataFrame(y_test)"
   ]
  },
  {
   "cell_type": "code",
   "execution_count": 253,
   "metadata": {},
   "outputs": [],
   "source": [
    "index_dict = {}\n",
    "for unic in unic_y:\n",
    "    index_dict[unic]  = df_y_test[df_y_test.TargetKey==unic].index"
   ]
  },
  {
   "cell_type": "code",
   "execution_count": 254,
   "metadata": {},
   "outputs": [],
   "source": [
    "pred_dict ={}\n",
    "for y_val, y_index in zip(index_dict.keys(), index_dict.values()):\n",
    "    X_for_pred=X_test[X_test.index.isin(y_index)]\n",
    "    pred = dec_tree.predict(X_for_pred)\n",
    "    pred_dict[y_val] = pred"
   ]
  },
  {
   "cell_type": "code",
   "execution_count": 255,
   "metadata": {},
   "outputs": [],
   "source": [
    "metrics_dict ={}\n",
    "for y_true, y_pred in zip(pred_dict.keys(), pred_dict.values()):\n",
    "    res = list(y_pred).count(y_true)\n",
    "    metrics_dict[y_true] = res/len(y_pred)"
   ]
  },
  {
   "cell_type": "code",
   "execution_count": 273,
   "metadata": {},
   "outputs": [
    {
     "data": {
      "text/plain": [
       "{29: 1.0,\n",
       " 35: 1.0,\n",
       " 24: 0.9819819819819819,\n",
       " 4: 0.9928057553956835,\n",
       " 136: 0.5,\n",
       " 78: 0.815068493150685,\n",
       " 132: 0.8333333333333334,\n",
       " 154: 0.5,\n",
       " 147: 0.75,\n",
       " 6: 1.0,\n",
       " 157: 0.6,\n",
       " 164: 0.75,\n",
       " 127: 1.0,\n",
       " 38: 0.8666666666666667,\n",
       " 169: 0.9354838709677419,\n",
       " 148: 1.0,\n",
       " 170: 1.0,\n",
       " 106: 0.9090909090909091,\n",
       " 45: 1.0,\n",
       " 9: 1.0,\n",
       " 92: 0.8823529411764706,\n",
       " 129: 0.6666666666666666,\n",
       " 133: 0.6666666666666666,\n",
       " 137: 1.0,\n",
       " 89: 0.8,\n",
       " 119: 1.0,\n",
       " 61: 0.9285714285714286,\n",
       " 79: 1.0,\n",
       " 145: 0.5,\n",
       " 146: 0.0,\n",
       " 134: 0.3333333333333333,\n",
       " 155: 0.3333333333333333,\n",
       " 131: 0.5,\n",
       " 171: 0.0,\n",
       " 114: 0.4,\n",
       " 123: 1.0,\n",
       " 117: 1.0,\n",
       " 138: 0.6666666666666666,\n",
       " 56: 0.5,\n",
       " 121: 0.6666666666666666}"
      ]
     },
     "execution_count": 273,
     "metadata": {},
     "output_type": "execute_result"
    }
   ],
   "source": [
    "metrics_dict"
   ]
  },
  {
   "cell_type": "code",
   "execution_count": 274,
   "metadata": {},
   "outputs": [],
   "source": [
    " for_plot_len = [len(i) for i in pred_dict.values()]"
   ]
  },
  {
   "cell_type": "code",
   "execution_count": 275,
   "metadata": {},
   "outputs": [
    {
     "data": {
      "text/plain": [
       "Text(0.5, 1.0, 'Dependens score and quantoty of examples')"
      ]
     },
     "execution_count": 275,
     "metadata": {},
     "output_type": "execute_result"
    },
    {
     "data": {
      "image/png": "[encoded data removed]",
      "text/plain": [
       "<Figure size 432x288 with 1 Axes>"
      ]
     },
     "metadata": {
      "needs_background": "light"
     },
     "output_type": "display_data"
    }
   ],
   "source": [
    "plt.scatter(list(metrics_dict.values()), for_plot_len)\n",
    "plt.xlabel('accuracy')\n",
    "plt.ylabel('quantity')\n",
    "plt.title('Dependens score and quantoty of examples')"
   ]
  },
  {
   "cell_type": "markdown",
   "metadata": {},
   "source": [
    "In this graph, we see the dependence of the prediction accuracy on the number of examples of this class. For this data and task, the DecisionTreeClassifier model is best suited. We can improve the metric of our model by constructing new features."
   ]
  },
  {
   "cell_type": "code",
   "execution_count": 277,
   "metadata": {},
   "outputs": [
    {
     "data": {
      "text/plain": [
       "0.7569672178417057"
      ]
     },
     "execution_count": 277,
     "metadata": {},
     "output_type": "execute_result"
    }
   ],
   "source": [
    "np.mean(list(metrics_dict.values()))"
   ]
  }
 ],
 "metadata": {
  "interpreter": {
   "hash": "56f1a0fe0ae983e1d8188b8efb8f5f3e6c962953746add713e877f0c7a0a2b04"
  },
  "kernelspec": {
   "display_name": "Python 3.9.7 64-bit ('biv_arr': conda)",
   "name": "python3"
  },
  "language_info": {
   "codemirror_mode": {
    "name": "ipython",
    "version": 3
   },
   "file_extension": ".py",
   "mimetype": "text/x-python",
   "name": "python",
   "nbconvert_exporter": "python",
   "pygments_lexer": "ipython3",
   "version": "3.9.7"
  },
  "orig_nbformat": 4
 },
 "nbformat": 4,
 "nbformat_minor": 2
}
