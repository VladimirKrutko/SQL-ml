{
 "cells": [
  {
   "cell_type": "code",
   "execution_count": 1,
   "source": [
    "import numpy as np\r\n",
    "import pandas as pd"
   ],
   "outputs": [
    {
     "output_type": "stream",
     "name": "stderr",
     "text": [
      "D:\\anaconda\\envs\\datasience\\lib\\site-packages\\numpy\\_distributor_init.py:32: UserWarning: loaded more than 1 DLL from .libs:\n",
      "D:\\anaconda\\envs\\datasience\\lib\\site-packages\\numpy\\.libs\\libopenblas.GK7GX5KEQ4F6UYO3P26ULGBQYHGQO7J4.gfortran-win_amd64.dll\n",
      "D:\\anaconda\\envs\\datasience\\lib\\site-packages\\numpy\\.libs\\libopenblas.NOIJJG62EMASZI6NYURL6JBKM4EVBGM7.gfortran-win_amd64.dll\n",
      "  stacklevel=1)\n"
     ]
    }
   ],
   "metadata": {}
  },
  {
   "cell_type": "code",
   "execution_count": 2,
   "source": [
    "data = pd.read_parquet('train.parquet')"
   ],
   "outputs": [],
   "metadata": {}
  },
  {
   "cell_type": "code",
   "execution_count": 3,
   "source": [
    "data.head()"
   ],
   "outputs": [
    {
     "output_type": "execute_result",
     "data": {
      "text/plain": [
       "  CompanyKey ProfitLoss AccountLocal AccSide AccountLocalCorr  \\\n",
       "0        BNV          0           01      Dt               08   \n",
       "1        BNV          0           08      Cr               01   \n",
       "2        BNV          0           08      Dt               60   \n",
       "3        BNV          0           10      Cr               20   \n",
       "4        BNV          0           10      Cr               26   \n",
       "\n",
       "  Виды деятельности Прочие доходы и расходы           Номенклатурные группы  \\\n",
       "0                                                                             \n",
       "1                                                                             \n",
       "2                                                                             \n",
       "3                                            Основная номенклатурная группа   \n",
       "4                                                                             \n",
       "\n",
       "         Статьи затрат Статьи ДДС     Amount TargetKey     TargetName  \n",
       "0                                  395599.24        24  Прочие Активы  \n",
       "1                                 -395599.24        24  Прочие Активы  \n",
       "2                                  395599.24        24  Прочие Активы  \n",
       "3  Списание материалов             -12868.81        24  Прочие Активы  \n",
       "4     почтовые расходы             -81507.85        24  Прочие Активы  "
      ],
      "text/html": [
       "<div>\n",
       "<style scoped>\n",
       "    .dataframe tbody tr th:only-of-type {\n",
       "        vertical-align: middle;\n",
       "    }\n",
       "\n",
       "    .dataframe tbody tr th {\n",
       "        vertical-align: top;\n",
       "    }\n",
       "\n",
       "    .dataframe thead th {\n",
       "        text-align: right;\n",
       "    }\n",
       "</style>\n",
       "<table border=\"1\" class=\"dataframe\">\n",
       "  <thead>\n",
       "    <tr style=\"text-align: right;\">\n",
       "      <th></th>\n",
       "      <th>CompanyKey</th>\n",
       "      <th>ProfitLoss</th>\n",
       "      <th>AccountLocal</th>\n",
       "      <th>AccSide</th>\n",
       "      <th>AccountLocalCorr</th>\n",
       "      <th>Виды деятельности</th>\n",
       "      <th>Прочие доходы и расходы</th>\n",
       "      <th>Номенклатурные группы</th>\n",
       "      <th>Статьи затрат</th>\n",
       "      <th>Статьи ДДС</th>\n",
       "      <th>Amount</th>\n",
       "      <th>TargetKey</th>\n",
       "      <th>TargetName</th>\n",
       "    </tr>\n",
       "  </thead>\n",
       "  <tbody>\n",
       "    <tr>\n",
       "      <th>0</th>\n",
       "      <td>BNV</td>\n",
       "      <td>0</td>\n",
       "      <td>01</td>\n",
       "      <td>Dt</td>\n",
       "      <td>08</td>\n",
       "      <td></td>\n",
       "      <td></td>\n",
       "      <td></td>\n",
       "      <td></td>\n",
       "      <td></td>\n",
       "      <td>395599.24</td>\n",
       "      <td>24</td>\n",
       "      <td>Прочие Активы</td>\n",
       "    </tr>\n",
       "    <tr>\n",
       "      <th>1</th>\n",
       "      <td>BNV</td>\n",
       "      <td>0</td>\n",
       "      <td>08</td>\n",
       "      <td>Cr</td>\n",
       "      <td>01</td>\n",
       "      <td></td>\n",
       "      <td></td>\n",
       "      <td></td>\n",
       "      <td></td>\n",
       "      <td></td>\n",
       "      <td>-395599.24</td>\n",
       "      <td>24</td>\n",
       "      <td>Прочие Активы</td>\n",
       "    </tr>\n",
       "    <tr>\n",
       "      <th>2</th>\n",
       "      <td>BNV</td>\n",
       "      <td>0</td>\n",
       "      <td>08</td>\n",
       "      <td>Dt</td>\n",
       "      <td>60</td>\n",
       "      <td></td>\n",
       "      <td></td>\n",
       "      <td></td>\n",
       "      <td></td>\n",
       "      <td></td>\n",
       "      <td>395599.24</td>\n",
       "      <td>24</td>\n",
       "      <td>Прочие Активы</td>\n",
       "    </tr>\n",
       "    <tr>\n",
       "      <th>3</th>\n",
       "      <td>BNV</td>\n",
       "      <td>0</td>\n",
       "      <td>10</td>\n",
       "      <td>Cr</td>\n",
       "      <td>20</td>\n",
       "      <td></td>\n",
       "      <td></td>\n",
       "      <td>Основная номенклатурная группа</td>\n",
       "      <td>Списание материалов</td>\n",
       "      <td></td>\n",
       "      <td>-12868.81</td>\n",
       "      <td>24</td>\n",
       "      <td>Прочие Активы</td>\n",
       "    </tr>\n",
       "    <tr>\n",
       "      <th>4</th>\n",
       "      <td>BNV</td>\n",
       "      <td>0</td>\n",
       "      <td>10</td>\n",
       "      <td>Cr</td>\n",
       "      <td>26</td>\n",
       "      <td></td>\n",
       "      <td></td>\n",
       "      <td></td>\n",
       "      <td>почтовые расходы</td>\n",
       "      <td></td>\n",
       "      <td>-81507.85</td>\n",
       "      <td>24</td>\n",
       "      <td>Прочие Активы</td>\n",
       "    </tr>\n",
       "  </tbody>\n",
       "</table>\n",
       "</div>"
      ]
     },
     "metadata": {},
     "execution_count": 3
    }
   ],
   "metadata": {}
  },
  {
   "cell_type": "code",
   "execution_count": 18,
   "source": [
    "data.isnull().sum()"
   ],
   "outputs": [
    {
     "output_type": "execute_result",
     "data": {
      "text/plain": [
       "CompanyKey                    0\n",
       "ProfitLoss                    0\n",
       "AccountLocal                  0\n",
       "AccSide                       0\n",
       "AccountLocalCorr              0\n",
       "Виды деятельности             0\n",
       "Прочие доходы и расходы       0\n",
       "Номенклатурные группы         0\n",
       "Статьи затрат                 0\n",
       "Статьи ДДС                    0\n",
       "Amount                        0\n",
       "TargetKey                  2510\n",
       "TargetName                 2510\n",
       "dtype: int64"
      ]
     },
     "metadata": {},
     "execution_count": 18
    }
   ],
   "metadata": {}
  },
  {
   "cell_type": "code",
   "execution_count": 57,
   "source": [
    "data.CompanyKey.dtype=='category'\r\n"
   ],
   "outputs": [
    {
     "output_type": "execute_result",
     "data": {
      "text/plain": [
       "True"
      ]
     },
     "metadata": {},
     "execution_count": 57
    }
   ],
   "metadata": {}
  },
  {
   "cell_type": "code",
   "execution_count": 50,
   "source": [
    " data.AccountLocal =data.AccountLocal.astype(float)"
   ],
   "outputs": [],
   "metadata": {}
  },
  {
   "cell_type": "code",
   "execution_count": 53,
   "source": [
    "data.AccountLocalCorr = data.AccountLocalCorr.astype(float)"
   ],
   "outputs": [],
   "metadata": {}
  },
  {
   "cell_type": "code",
   "execution_count": 61,
   "source": [
    "for col in data.columns:\r\n",
    "    if (data[col].dtype!=str) & (data[col].dtype!=float):\r\n",
    "        data[col] = data[col].astype(str)"
   ],
   "outputs": [],
   "metadata": {}
  },
  {
   "cell_type": "code",
   "execution_count": 62,
   "source": [
    "data.dtypes"
   ],
   "outputs": [
    {
     "output_type": "execute_result",
     "data": {
      "text/plain": [
       "CompanyKey                  object\n",
       "ProfitLoss                  object\n",
       "AccountLocal               float64\n",
       "AccSide                     object\n",
       "AccountLocalCorr           float64\n",
       "Виды деятельности           object\n",
       "Прочие доходы и расходы     object\n",
       "Номенклатурные группы       object\n",
       "Статьи затрат               object\n",
       "Статьи ДДС                  object\n",
       "Amount                     float64\n",
       "TargetKey                   object\n",
       "TargetName                  object\n",
       "dtype: object"
      ]
     },
     "metadata": {},
     "execution_count": 62
    }
   ],
   "metadata": {}
  }
 ],
 "metadata": {
  "orig_nbformat": 4,
  "language_info": {
   "name": "python",
   "version": "3.7.7",
   "mimetype": "text/x-python",
   "codemirror_mode": {
    "name": "ipython",
    "version": 3
   },
   "pygments_lexer": "ipython3",
   "nbconvert_exporter": "python",
   "file_extension": ".py"
  },
  "kernelspec": {
   "name": "python3",
   "display_name": "Python 3.7.7 64-bit ('datasience': conda)"
  },
  "interpreter": {
   "hash": "91424bc8e970c87d41746f8fdf53f2e2f641a7b262a871414231e1ba24cd62ed"
  }
 },
 "nbformat": 4,
 "nbformat_minor": 2
}